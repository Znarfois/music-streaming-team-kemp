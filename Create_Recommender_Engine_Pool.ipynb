{
 "cells": [
  {
   "cell_type": "markdown",
   "metadata": {},
   "source": [
    "# Tracks Genre Classification\n",
    "\n",
    "- What does each playlist set sound like? What are their defining characteristics?\n",
    "\n",
    "- Using user-marked playlist genres as training data, can we build a model to correctly classify songs from a separate track dataset?"
   ]
  },
  {
   "cell_type": "code",
   "execution_count": 113,
   "metadata": {
    "ExecuteTime": {
     "end_time": "2020-10-12T16:35:31.736159Z",
     "start_time": "2020-10-12T16:35:31.730175Z"
    }
   },
   "outputs": [],
   "source": [
    "import pandas as pd\n",
    "import numpy as np\n",
    "\n",
    "import seaborn as sns\n",
    "import matplotlib.pyplot as plt\n",
    "%matplotlib inline"
   ]
  },
  {
   "cell_type": "markdown",
   "metadata": {},
   "source": [
    "## 1. Read the training data"
   ]
  },
  {
   "cell_type": "code",
   "execution_count": 114,
   "metadata": {
    "ExecuteTime": {
     "end_time": "2020-10-12T16:35:31.907134Z",
     "start_time": "2020-10-12T16:35:31.738152Z"
    }
   },
   "outputs": [],
   "source": [
    "#genre_names = [\"R&B\", \"Classical\", \"Country\", \"Electronic\", \"Hiphop\",\"Jazz\", \"Pop\", \"Rock\", \"Reggae\", \"Rap\"]\n",
    "genre_names = [\"R&B\", \"Classical\", \"Country\", \"Electronic\",\"Jazz\", \"Pop\", \"Rock\", \"Rap\", \"Folk pop\"]\n",
    "\n",
    "playlist_df_list = []\n",
    "track_df_list = []\n",
    "for genre in genre_names:\n",
    "    # read and process the playlist data for keyword\n",
    "\n",
    "    pdf = pd.read_csv('data/'+genre.lower()+'_playlist_data.csv')\n",
    "    pdf['genre'] = genre.lower().replace('&','n')\n",
    "    playlist_df_list.append(pdf)\n",
    "\n",
    "    tdf = pd.read_csv('data/'+genre.lower()+'_playlist_tracks_data.csv')\n",
    "    tdf['genre'] = genre.lower().replace('&','n')\n",
    "    track_df_list.append(tdf)\n",
    "        \n",
    "        \n",
    "playlist_df = pd.concat(playlist_df_list)\n",
    "tracks_df = pd.concat(track_df_list)\n"
   ]
  },
  {
   "cell_type": "code",
   "execution_count": 115,
   "metadata": {
    "ExecuteTime": {
     "end_time": "2020-10-12T16:35:31.914717Z",
     "start_time": "2020-10-12T16:35:31.909693Z"
    }
   },
   "outputs": [
    {
     "data": {
      "text/plain": [
       "((713, 7), (16356, 22))"
      ]
     },
     "execution_count": 115,
     "metadata": {},
     "output_type": "execute_result"
    }
   ],
   "source": [
    "#check shape\n",
    "playlist_df.shape, tracks_df.shape"
   ]
  },
  {
   "cell_type": "code",
   "execution_count": 116,
   "metadata": {
    "ExecuteTime": {
     "end_time": "2020-10-12T16:35:31.924655Z",
     "start_time": "2020-10-12T16:35:31.916674Z"
    }
   },
   "outputs": [
    {
     "name": "stdout",
     "output_type": "stream",
     "text": [
      "Playlist dataset columns: ['playlist_id' 'playlist_name' 'playlist_total_tracks' 'owner_id'\n",
      " 'owner_name' 'total_followers' 'genre'] \n",
      "\n",
      "Tracks dataset columns: ['track_id' 'track_name' 'artist_id' 'artist_name' 'album_id' 'duration'\n",
      " 'release_date' 'popularity' 'danceability' 'energy' 'key' 'loudness'\n",
      " 'mode' 'speechiness' 'acousticness' 'instrumentalness' 'liveness'\n",
      " 'valence' 'tempo' 'playlist_id' 'playlist_name' 'genre']\n"
     ]
    }
   ],
   "source": [
    "#check columns\n",
    "print(\"Playlist dataset columns: %s \\n\" % playlist_df.columns.values)\n",
    "print(\"Tracks dataset columns: %s\" % tracks_df.columns.values)"
   ]
  },
  {
   "cell_type": "code",
   "execution_count": 117,
   "metadata": {
    "ExecuteTime": {
     "end_time": "2020-10-12T16:35:31.937619Z",
     "start_time": "2020-10-12T16:35:31.925651Z"
    }
   },
   "outputs": [
    {
     "data": {
      "text/html": [
       "<div>\n",
       "<style scoped>\n",
       "    .dataframe tbody tr th:only-of-type {\n",
       "        vertical-align: middle;\n",
       "    }\n",
       "\n",
       "    .dataframe tbody tr th {\n",
       "        vertical-align: top;\n",
       "    }\n",
       "\n",
       "    .dataframe thead th {\n",
       "        text-align: right;\n",
       "    }\n",
       "</style>\n",
       "<table border=\"1\" class=\"dataframe\">\n",
       "  <thead>\n",
       "    <tr style=\"text-align: right;\">\n",
       "      <th></th>\n",
       "      <th>playlist_id</th>\n",
       "      <th>playlist_name</th>\n",
       "      <th>playlist_total_tracks</th>\n",
       "      <th>owner_id</th>\n",
       "      <th>owner_name</th>\n",
       "      <th>total_followers</th>\n",
       "      <th>genre</th>\n",
       "    </tr>\n",
       "  </thead>\n",
       "  <tbody>\n",
       "  </tbody>\n",
       "</table>\n",
       "</div>"
      ],
      "text/plain": [
       "Empty DataFrame\n",
       "Columns: [playlist_id, playlist_name, playlist_total_tracks, owner_id, owner_name, total_followers, genre]\n",
       "Index: []"
      ]
     },
     "execution_count": 117,
     "metadata": {},
     "output_type": "execute_result"
    }
   ],
   "source": [
    "#check null rows\n",
    "playlist_df[playlist_df.isnull().any(1)]\n",
    "#tracks_df[tracks_df.isnull().any(1)]\n"
   ]
  },
  {
   "cell_type": "code",
   "execution_count": 118,
   "metadata": {
    "ExecuteTime": {
     "end_time": "2020-10-12T16:35:31.963589Z",
     "start_time": "2020-10-12T16:35:31.939614Z"
    }
   },
   "outputs": [
    {
     "data": {
      "text/plain": [
       "(16356, 22)"
      ]
     },
     "execution_count": 118,
     "metadata": {},
     "output_type": "execute_result"
    }
   ],
   "source": [
    "#remove null rows\n",
    "tracks_df = tracks_df[~tracks_df.isnull().any(1)]\n",
    "tracks_df.shape"
   ]
  },
  {
   "cell_type": "code",
   "execution_count": 119,
   "metadata": {
    "ExecuteTime": {
     "end_time": "2020-10-12T16:35:31.972527Z",
     "start_time": "2020-10-12T16:35:31.964546Z"
    }
   },
   "outputs": [
    {
     "data": {
      "text/plain": [
       "14099"
      ]
     },
     "execution_count": 119,
     "metadata": {},
     "output_type": "execute_result"
    }
   ],
   "source": [
    "# How many unique tracks are in the combined dataset?\n",
    "len(tracks_df['track_id'].unique())"
   ]
  },
  {
   "cell_type": "code",
   "execution_count": 120,
   "metadata": {
    "ExecuteTime": {
     "end_time": "2020-10-12T16:35:31.988512Z",
     "start_time": "2020-10-12T16:35:31.974520Z"
    }
   },
   "outputs": [
    {
     "data": {
      "text/plain": [
       "(14099, 22)"
      ]
     },
     "execution_count": 120,
     "metadata": {},
     "output_type": "execute_result"
    }
   ],
   "source": [
    "#retain only distinct tracks per keyword\n",
    "tracks_df =tracks_df.drop_duplicates(subset='track_id')\n",
    "tracks_df.shape"
   ]
  },
  {
   "cell_type": "code",
   "execution_count": 121,
   "metadata": {
    "ExecuteTime": {
     "end_time": "2020-10-12T16:35:32.123160Z",
     "start_time": "2020-10-12T16:35:31.990477Z"
    }
   },
   "outputs": [
    {
     "data": {
      "text/plain": [
       "<matplotlib.axes._subplots.AxesSubplot at 0x274c3b49fd0>"
      ]
     },
     "execution_count": 121,
     "metadata": {},
     "output_type": "execute_result"
    },
    {
     "data": {
      "image/png": "[encoded data removed]",
      "text/plain": [
       "<Figure size 432x288 with 1 Axes>"
      ]
     },
     "metadata": {
      "needs_background": "light"
     },
     "output_type": "display_data"
    }
   ],
   "source": [
    "# What is the distribution of playlist's total tracks?\n",
    "playlist_df['playlist_total_tracks'].hist()"
   ]
  },
  {
   "cell_type": "code",
   "execution_count": 122,
   "metadata": {
    "ExecuteTime": {
     "end_time": "2020-10-12T16:35:32.267737Z",
     "start_time": "2020-10-12T16:35:32.124120Z"
    }
   },
   "outputs": [
    {
     "data": {
      "text/plain": [
       "<matplotlib.axes._subplots.AxesSubplot at 0x274c5395520>"
      ]
     },
     "execution_count": 122,
     "metadata": {},
     "output_type": "execute_result"
    },
    {
     "data": {
      "image/png": "[encoded data removed]",
      "text/plain": [
       "<Figure size 432x288 with 1 Axes>"
      ]
     },
     "metadata": {
      "needs_background": "light"
     },
     "output_type": "display_data"
    }
   ],
   "source": [
    "# What is the distribution of playlist's total tracks?\n",
    "playlist_df['total_followers'].hist()"
   ]
  },
  {
   "cell_type": "code",
   "execution_count": 123,
   "metadata": {
    "ExecuteTime": {
     "end_time": "2020-10-12T16:35:32.277710Z",
     "start_time": "2020-10-12T16:35:32.268735Z"
    }
   },
   "outputs": [
    {
     "data": {
      "text/plain": [
       "electronic    0.214838\n",
       "classical     0.166040\n",
       "rock          0.136393\n",
       "jazz          0.111710\n",
       "rnb           0.105894\n",
       "pop           0.101071\n",
       "country       0.088942\n",
       "rap           0.070998\n",
       "folk pop      0.004114\n",
       "Name: genre, dtype: float64"
      ]
     },
     "execution_count": 123,
     "metadata": {},
     "output_type": "execute_result"
    }
   ],
   "source": [
    "#tally of tracks\n",
    "#tracks_df['genre'].value_counts()\n",
    "tracks_df['genre'].value_counts(normalize=True)"
   ]
  },
  {
   "cell_type": "markdown",
   "metadata": {},
   "source": [
    "## 2. Refine the training data"
   ]
  },
  {
   "cell_type": "code",
   "execution_count": 124,
   "metadata": {
    "ExecuteTime": {
     "end_time": "2020-10-12T16:35:32.296659Z",
     "start_time": "2020-10-12T16:35:32.278708Z"
    }
   },
   "outputs": [
    {
     "data": {
      "text/html": [
       "<div>\n",
       "<style scoped>\n",
       "    .dataframe tbody tr th:only-of-type {\n",
       "        vertical-align: middle;\n",
       "    }\n",
       "\n",
       "    .dataframe tbody tr th {\n",
       "        vertical-align: top;\n",
       "    }\n",
       "\n",
       "    .dataframe thead th {\n",
       "        text-align: right;\n",
       "    }\n",
       "</style>\n",
       "<table border=\"1\" class=\"dataframe\">\n",
       "  <thead>\n",
       "    <tr style=\"text-align: right;\">\n",
       "      <th></th>\n",
       "      <th>playlist_id</th>\n",
       "      <th>playlist_name</th>\n",
       "      <th>playlist_total_tracks</th>\n",
       "      <th>owner_id</th>\n",
       "      <th>owner_name</th>\n",
       "      <th>total_followers</th>\n",
       "      <th>genre</th>\n",
       "    </tr>\n",
       "  </thead>\n",
       "  <tbody>\n",
       "    <tr>\n",
       "      <th>0</th>\n",
       "      <td>37i9dQZF1DWYmmr74INQlb</td>\n",
       "      <td>I Love My '00s R&amp;B</td>\n",
       "      <td>40</td>\n",
       "      <td>spotify</td>\n",
       "      <td>Spotify</td>\n",
       "      <td>3186018</td>\n",
       "      <td>rnb</td>\n",
       "    </tr>\n",
       "    <tr>\n",
       "      <th>1</th>\n",
       "      <td>37i9dQZF1DX6VDO8a6cQME</td>\n",
       "      <td>I Love My '90s R&amp;B</td>\n",
       "      <td>45</td>\n",
       "      <td>spotify</td>\n",
       "      <td>Spotify</td>\n",
       "      <td>2386964</td>\n",
       "      <td>rnb</td>\n",
       "    </tr>\n",
       "    <tr>\n",
       "      <th>2</th>\n",
       "      <td>37i9dQZF1DX2UgsUIg75Vg</td>\n",
       "      <td>Chilled R&amp;B</td>\n",
       "      <td>50</td>\n",
       "      <td>spotify</td>\n",
       "      <td>Spotify</td>\n",
       "      <td>2030733</td>\n",
       "      <td>rnb</td>\n",
       "    </tr>\n",
       "    <tr>\n",
       "      <th>3</th>\n",
       "      <td>37i9dQZF1DWSfMe9z89s9B</td>\n",
       "      <td>Alternative R&amp;B</td>\n",
       "      <td>100</td>\n",
       "      <td>spotify</td>\n",
       "      <td>Spotify</td>\n",
       "      <td>860678</td>\n",
       "      <td>rnb</td>\n",
       "    </tr>\n",
       "    <tr>\n",
       "      <th>4</th>\n",
       "      <td>37i9dQZF1DXbirtHQBuwCo</td>\n",
       "      <td>TrenChill K-R&amp;B</td>\n",
       "      <td>50</td>\n",
       "      <td>spotify</td>\n",
       "      <td>Spotify</td>\n",
       "      <td>481187</td>\n",
       "      <td>rnb</td>\n",
       "    </tr>\n",
       "  </tbody>\n",
       "</table>\n",
       "</div>"
      ],
      "text/plain": [
       "              playlist_id       playlist_name  playlist_total_tracks owner_id  \\\n",
       "0  37i9dQZF1DWYmmr74INQlb  I Love My '00s R&B                     40  spotify   \n",
       "1  37i9dQZF1DX6VDO8a6cQME  I Love My '90s R&B                     45  spotify   \n",
       "2  37i9dQZF1DX2UgsUIg75Vg         Chilled R&B                     50  spotify   \n",
       "3  37i9dQZF1DWSfMe9z89s9B     Alternative R&B                    100  spotify   \n",
       "4  37i9dQZF1DXbirtHQBuwCo     TrenChill K-R&B                     50  spotify   \n",
       "\n",
       "  owner_name  total_followers genre  \n",
       "0    Spotify          3186018   rnb  \n",
       "1    Spotify          2386964   rnb  \n",
       "2    Spotify          2030733   rnb  \n",
       "3    Spotify           860678   rnb  \n",
       "4    Spotify           481187   rnb  "
      ]
     },
     "execution_count": 124,
     "metadata": {},
     "output_type": "execute_result"
    }
   ],
   "source": [
    "#get top playlists\n",
    "top_playlists_df = playlist_df.groupby('genre').head(5)\n",
    "top_playlists_df.head()"
   ]
  },
  {
   "cell_type": "code",
   "execution_count": 125,
   "metadata": {
    "ExecuteTime": {
     "end_time": "2020-10-12T16:35:32.311663Z",
     "start_time": "2020-10-12T16:35:32.298654Z"
    }
   },
   "outputs": [
    {
     "data": {
      "text/plain": [
       "jazz          690\n",
       "classical     476\n",
       "pop           475\n",
       "rock          461\n",
       "electronic    375\n",
       "rnb           281\n",
       "country       259\n",
       "rap           229\n",
       "folk pop       58\n",
       "Name: genre, dtype: int64"
      ]
     },
     "execution_count": 125,
     "metadata": {},
     "output_type": "execute_result"
    }
   ],
   "source": [
    "tracks_df = tracks_df[tracks_df['playlist_id'].isin(top_playlists_df['playlist_id'].values)]\n",
    "tracks_df['genre'].value_counts()"
   ]
  },
  {
   "cell_type": "markdown",
   "metadata": {},
   "source": [
    "## 3. Feature Engineering"
   ]
  },
  {
   "cell_type": "markdown",
   "metadata": {},
   "source": [
    "##### Conversions/Normalizations"
   ]
  },
  {
   "cell_type": "code",
   "execution_count": 126,
   "metadata": {
    "ExecuteTime": {
     "end_time": "2020-10-12T16:35:32.317603Z",
     "start_time": "2020-10-12T16:35:32.313614Z"
    }
   },
   "outputs": [],
   "source": [
    "#convert duration from ms to mins\n",
    "tracks_df['duration_mins']=tracks_df['duration']/60000"
   ]
  },
  {
   "cell_type": "code",
   "execution_count": 127,
   "metadata": {
    "ExecuteTime": {
     "end_time": "2020-10-12T16:35:32.333560Z",
     "start_time": "2020-10-12T16:35:32.319598Z"
    }
   },
   "outputs": [
    {
     "data": {
      "text/plain": [
       "count    3304.000000\n",
       "mean        0.775987\n",
       "std         0.154225\n",
       "min         0.000000\n",
       "25%         0.715724\n",
       "50%         0.828298\n",
       "75%         0.882508\n",
       "max         1.000000\n",
       "Name: loudness, dtype: float64"
      ]
     },
     "execution_count": 127,
     "metadata": {},
     "output_type": "execute_result"
    }
   ],
   "source": [
    "#Normalize loudness\n",
    "from sklearn.preprocessing import MinMaxScaler\n",
    "scaler = MinMaxScaler()\n",
    "\n",
    "tracks_df['loudness'] = scaler.fit_transform(tracks_df[['loudness']])\n",
    "tracks_df['loudness'].describe()\n"
   ]
  },
  {
   "cell_type": "code",
   "execution_count": 128,
   "metadata": {
    "ExecuteTime": {
     "end_time": "2020-10-12T16:35:32.349518Z",
     "start_time": "2020-10-12T16:35:32.336555Z"
    }
   },
   "outputs": [
    {
     "data": {
      "text/plain": [
       "count    3304.000000\n",
       "mean        0.527479\n",
       "std         0.135740\n",
       "min         0.000000\n",
       "25%         0.415540\n",
       "50%         0.527032\n",
       "75%         0.609129\n",
       "max         1.000000\n",
       "Name: tempo, dtype: float64"
      ]
     },
     "execution_count": 128,
     "metadata": {},
     "output_type": "execute_result"
    }
   ],
   "source": [
    "#Normalize tempo\n",
    "tracks_df['tempo'] =  scaler.fit_transform(tracks_df[['tempo']])\n",
    "#check\n",
    "tracks_df['tempo'].describe()\n"
   ]
  },
  {
   "cell_type": "markdown",
   "metadata": {},
   "source": [
    "###### Categorical Encoding"
   ]
  },
  {
   "cell_type": "code",
   "execution_count": 129,
   "metadata": {
    "ExecuteTime": {
     "end_time": "2020-10-12T16:35:32.360489Z",
     "start_time": "2020-10-12T16:35:32.351515Z"
    }
   },
   "outputs": [
    {
     "data": {
      "text/plain": [
       "track_id              object\n",
       "track_name            object\n",
       "artist_id             object\n",
       "artist_name           object\n",
       "album_id              object\n",
       "duration               int64\n",
       "release_date          object\n",
       "popularity             int64\n",
       "danceability         float64\n",
       "energy               float64\n",
       "key                    int64\n",
       "loudness             float64\n",
       "mode                   int64\n",
       "speechiness          float64\n",
       "acousticness         float64\n",
       "instrumentalness     float64\n",
       "liveness             float64\n",
       "valence              float64\n",
       "tempo                float64\n",
       "playlist_id           object\n",
       "playlist_name         object\n",
       "genre               category\n",
       "duration_mins        float64\n",
       "dtype: object"
      ]
     },
     "execution_count": 129,
     "metadata": {},
     "output_type": "execute_result"
    }
   ],
   "source": [
    "tracks_df[\"genre\"] = tracks_df[\"genre\"].astype('category')\n",
    "tracks_df.dtypes"
   ]
  },
  {
   "cell_type": "code",
   "execution_count": 130,
   "metadata": {
    "ExecuteTime": {
     "end_time": "2020-10-12T16:35:32.388450Z",
     "start_time": "2020-10-12T16:35:32.362484Z"
    }
   },
   "outputs": [
    {
     "data": {
      "text/html": [
       "<div>\n",
       "<style scoped>\n",
       "    .dataframe tbody tr th:only-of-type {\n",
       "        vertical-align: middle;\n",
       "    }\n",
       "\n",
       "    .dataframe tbody tr th {\n",
       "        vertical-align: top;\n",
       "    }\n",
       "\n",
       "    .dataframe thead th {\n",
       "        text-align: right;\n",
       "    }\n",
       "</style>\n",
       "<table border=\"1\" class=\"dataframe\">\n",
       "  <thead>\n",
       "    <tr style=\"text-align: right;\">\n",
       "      <th></th>\n",
       "      <th>track_id</th>\n",
       "      <th>track_name</th>\n",
       "      <th>artist_id</th>\n",
       "      <th>artist_name</th>\n",
       "      <th>album_id</th>\n",
       "      <th>duration</th>\n",
       "      <th>release_date</th>\n",
       "      <th>popularity</th>\n",
       "      <th>danceability</th>\n",
       "      <th>energy</th>\n",
       "      <th>...</th>\n",
       "      <th>acousticness</th>\n",
       "      <th>instrumentalness</th>\n",
       "      <th>liveness</th>\n",
       "      <th>valence</th>\n",
       "      <th>tempo</th>\n",
       "      <th>playlist_id</th>\n",
       "      <th>playlist_name</th>\n",
       "      <th>genre</th>\n",
       "      <th>duration_mins</th>\n",
       "      <th>genre_id</th>\n",
       "    </tr>\n",
       "  </thead>\n",
       "  <tbody>\n",
       "    <tr>\n",
       "      <th>0</th>\n",
       "      <td>6nTcn8CybBcx0t7IaXEJ6O</td>\n",
       "      <td>Thank God I Found You (feat. Joe &amp; Nas) - Make...</td>\n",
       "      <td>4iHNK0tOyZPYnBU7nGAgpQ</td>\n",
       "      <td>Mariah Carey</td>\n",
       "      <td>6zuCJaxmHKNKN5hMDF556U</td>\n",
       "      <td>251640</td>\n",
       "      <td>2000-04-18</td>\n",
       "      <td>55</td>\n",
       "      <td>0.608</td>\n",
       "      <td>0.760</td>\n",
       "      <td>...</td>\n",
       "      <td>0.0129</td>\n",
       "      <td>0.0</td>\n",
       "      <td>0.3320</td>\n",
       "      <td>0.366</td>\n",
       "      <td>0.770222</td>\n",
       "      <td>37i9dQZF1DWYmmr74INQlb</td>\n",
       "      <td>I Love My '00s R&amp;B</td>\n",
       "      <td>rnb</td>\n",
       "      <td>4.194000</td>\n",
       "      <td>7</td>\n",
       "    </tr>\n",
       "    <tr>\n",
       "      <th>1</th>\n",
       "      <td>7FWuzwapuKHTEyDJIcQOw3</td>\n",
       "      <td>Stutter (feat. Mystikal) - Double Take Remix</td>\n",
       "      <td>3zTOe1BtyTkwNvYZOxXktX</td>\n",
       "      <td>Joe</td>\n",
       "      <td>6zuCJaxmHKNKN5hMDF556U</td>\n",
       "      <td>213026</td>\n",
       "      <td>2000-04-18</td>\n",
       "      <td>55</td>\n",
       "      <td>0.767</td>\n",
       "      <td>0.759</td>\n",
       "      <td>...</td>\n",
       "      <td>0.0513</td>\n",
       "      <td>0.0</td>\n",
       "      <td>0.3100</td>\n",
       "      <td>0.677</td>\n",
       "      <td>0.412051</td>\n",
       "      <td>37i9dQZF1DWYmmr74INQlb</td>\n",
       "      <td>I Love My '00s R&amp;B</td>\n",
       "      <td>rnb</td>\n",
       "      <td>3.550433</td>\n",
       "      <td>7</td>\n",
       "    </tr>\n",
       "    <tr>\n",
       "      <th>2</th>\n",
       "      <td>3QE7ObGjkt1kYnhLvZPRUy</td>\n",
       "      <td>Go On Girl</td>\n",
       "      <td>21E3waRsmPlU7jZsS13rcj</td>\n",
       "      <td>Ne-Yo</td>\n",
       "      <td>52q9xNv8COtSU9phlbO5sg</td>\n",
       "      <td>261426</td>\n",
       "      <td>2007-01-01</td>\n",
       "      <td>65</td>\n",
       "      <td>0.637</td>\n",
       "      <td>0.521</td>\n",
       "      <td>...</td>\n",
       "      <td>0.1550</td>\n",
       "      <td>0.0</td>\n",
       "      <td>0.0945</td>\n",
       "      <td>0.562</td>\n",
       "      <td>0.384152</td>\n",
       "      <td>37i9dQZF1DWYmmr74INQlb</td>\n",
       "      <td>I Love My '00s R&amp;B</td>\n",
       "      <td>rnb</td>\n",
       "      <td>4.357100</td>\n",
       "      <td>7</td>\n",
       "    </tr>\n",
       "    <tr>\n",
       "      <th>3</th>\n",
       "      <td>6De63WRULDaa1fxOyLilnv</td>\n",
       "      <td>Stingy</td>\n",
       "      <td>7r8RF1tN2A4CiGEplkp1oP</td>\n",
       "      <td>Ginuwine</td>\n",
       "      <td>3t4OgAvvOzvXw8D2NHUeDR</td>\n",
       "      <td>259493</td>\n",
       "      <td>2003-04-08</td>\n",
       "      <td>54</td>\n",
       "      <td>0.622</td>\n",
       "      <td>0.573</td>\n",
       "      <td>...</td>\n",
       "      <td>0.2600</td>\n",
       "      <td>0.0</td>\n",
       "      <td>0.1730</td>\n",
       "      <td>0.617</td>\n",
       "      <td>0.582125</td>\n",
       "      <td>37i9dQZF1DWYmmr74INQlb</td>\n",
       "      <td>I Love My '00s R&amp;B</td>\n",
       "      <td>rnb</td>\n",
       "      <td>4.324883</td>\n",
       "      <td>7</td>\n",
       "    </tr>\n",
       "    <tr>\n",
       "      <th>4</th>\n",
       "      <td>08fhbfRSg7eEH0IZT7pB6a</td>\n",
       "      <td>That Girl</td>\n",
       "      <td>1goOx6gnQdUllLfSMsL4Rt</td>\n",
       "      <td>Marques Houston</td>\n",
       "      <td>4sAouJxcSwPIoT5dd6Qgj7</td>\n",
       "      <td>215960</td>\n",
       "      <td>2003-10-21</td>\n",
       "      <td>53</td>\n",
       "      <td>0.683</td>\n",
       "      <td>0.552</td>\n",
       "      <td>...</td>\n",
       "      <td>0.5480</td>\n",
       "      <td>0.0</td>\n",
       "      <td>0.2210</td>\n",
       "      <td>0.519</td>\n",
       "      <td>0.453064</td>\n",
       "      <td>37i9dQZF1DWYmmr74INQlb</td>\n",
       "      <td>I Love My '00s R&amp;B</td>\n",
       "      <td>rnb</td>\n",
       "      <td>3.599333</td>\n",
       "      <td>7</td>\n",
       "    </tr>\n",
       "  </tbody>\n",
       "</table>\n",
       "<p>5 rows × 24 columns</p>\n",
       "</div>"
      ],
      "text/plain": [
       "                 track_id                                         track_name  \\\n",
       "0  6nTcn8CybBcx0t7IaXEJ6O  Thank God I Found You (feat. Joe & Nas) - Make...   \n",
       "1  7FWuzwapuKHTEyDJIcQOw3       Stutter (feat. Mystikal) - Double Take Remix   \n",
       "2  3QE7ObGjkt1kYnhLvZPRUy                                         Go On Girl   \n",
       "3  6De63WRULDaa1fxOyLilnv                                             Stingy   \n",
       "4  08fhbfRSg7eEH0IZT7pB6a                                          That Girl   \n",
       "\n",
       "                artist_id      artist_name                album_id  duration  \\\n",
       "0  4iHNK0tOyZPYnBU7nGAgpQ     Mariah Carey  6zuCJaxmHKNKN5hMDF556U    251640   \n",
       "1  3zTOe1BtyTkwNvYZOxXktX              Joe  6zuCJaxmHKNKN5hMDF556U    213026   \n",
       "2  21E3waRsmPlU7jZsS13rcj            Ne-Yo  52q9xNv8COtSU9phlbO5sg    261426   \n",
       "3  7r8RF1tN2A4CiGEplkp1oP         Ginuwine  3t4OgAvvOzvXw8D2NHUeDR    259493   \n",
       "4  1goOx6gnQdUllLfSMsL4Rt  Marques Houston  4sAouJxcSwPIoT5dd6Qgj7    215960   \n",
       "\n",
       "  release_date  popularity  danceability  energy  ...  acousticness  \\\n",
       "0   2000-04-18          55         0.608   0.760  ...        0.0129   \n",
       "1   2000-04-18          55         0.767   0.759  ...        0.0513   \n",
       "2   2007-01-01          65         0.637   0.521  ...        0.1550   \n",
       "3   2003-04-08          54         0.622   0.573  ...        0.2600   \n",
       "4   2003-10-21          53         0.683   0.552  ...        0.5480   \n",
       "\n",
       "   instrumentalness  liveness  valence     tempo             playlist_id  \\\n",
       "0               0.0    0.3320    0.366  0.770222  37i9dQZF1DWYmmr74INQlb   \n",
       "1               0.0    0.3100    0.677  0.412051  37i9dQZF1DWYmmr74INQlb   \n",
       "2               0.0    0.0945    0.562  0.384152  37i9dQZF1DWYmmr74INQlb   \n",
       "3               0.0    0.1730    0.617  0.582125  37i9dQZF1DWYmmr74INQlb   \n",
       "4               0.0    0.2210    0.519  0.453064  37i9dQZF1DWYmmr74INQlb   \n",
       "\n",
       "        playlist_name  genre  duration_mins genre_id  \n",
       "0  I Love My '00s R&B    rnb       4.194000        7  \n",
       "1  I Love My '00s R&B    rnb       3.550433        7  \n",
       "2  I Love My '00s R&B    rnb       4.357100        7  \n",
       "3  I Love My '00s R&B    rnb       4.324883        7  \n",
       "4  I Love My '00s R&B    rnb       3.599333        7  \n",
       "\n",
       "[5 rows x 24 columns]"
      ]
     },
     "execution_count": 130,
     "metadata": {},
     "output_type": "execute_result"
    }
   ],
   "source": [
    "tracks_df['genre_id'] = tracks_df[\"genre\"].cat.codes\n",
    "tracks_df.head()"
   ]
  },
  {
   "cell_type": "code",
   "execution_count": 131,
   "metadata": {
    "ExecuteTime": {
     "end_time": "2020-10-12T16:35:32.398514Z",
     "start_time": "2020-10-12T16:35:32.389410Z"
    }
   },
   "outputs": [
    {
     "data": {
      "text/plain": [
       "{7: 'rnb',\n",
       " 0: 'classical',\n",
       " 1: 'country',\n",
       " 2: 'electronic',\n",
       " 4: 'jazz',\n",
       " 5: 'pop',\n",
       " 8: 'rock',\n",
       " 6: 'rap',\n",
       " 3: 'folk pop'}"
      ]
     },
     "execution_count": 131,
     "metadata": {},
     "output_type": "execute_result"
    }
   ],
   "source": [
    "genre_lookup = dict(tracks_df.groupby('genre_id').head(1)[['genre_id','genre']].values)\n",
    "genre_lookup"
   ]
  },
  {
   "cell_type": "markdown",
   "metadata": {},
   "source": [
    "## 4. Train a KNN model"
   ]
  },
  {
   "cell_type": "code",
   "execution_count": 132,
   "metadata": {
    "ExecuteTime": {
     "end_time": "2020-10-12T16:35:32.406367Z",
     "start_time": "2020-10-12T16:35:32.401380Z"
    }
   },
   "outputs": [],
   "source": [
    "from sklearn.model_selection import train_test_split, cross_val_score\n",
    "from sklearn.neighbors import KNeighborsClassifier \n",
    "from sklearn.metrics import accuracy_score,roc_curve, auc, confusion_matrix, classification_report"
   ]
  },
  {
   "cell_type": "code",
   "execution_count": 133,
   "metadata": {
    "ExecuteTime": {
     "end_time": "2020-10-12T16:35:32.412351Z",
     "start_time": "2020-10-12T16:35:32.407362Z"
    }
   },
   "outputs": [],
   "source": [
    "#test plot for a genre and 2 predictors\n",
    "\n",
    "#fig = plt.figure()\n",
    "#ax= fig.add_subplot(111)\n",
    "\n",
    "#colormaps = ['Reds','Blues']\n",
    "#genre = 'pop'\n",
    "#label = [\"not \"+genre,genre]\n",
    "#for n,genre_bool in enumerate([0,1]):\n",
    "#    df=tracks_df[tracks_df['genre_'+genre]==genre_bool]\n",
    "#    sns.kdeplot(df['energy'],df['tempo'], ax=ax,\\\n",
    "#                shade=True, shade_lowest=False, alpha=0.5, cmap=colormaps[n],\\\n",
    "#                label=label[n])\n",
    "    \n",
    "#plt.legend(frameon=False)\n"
   ]
  },
  {
   "cell_type": "code",
   "execution_count": 134,
   "metadata": {},
   "outputs": [
    {
     "data": {
      "text/plain": [
       "<matplotlib.axes._subplots.AxesSubplot at 0x274c53a3370>"
      ]
     },
     "execution_count": 134,
     "metadata": {},
     "output_type": "execute_result"
    },
    {
     "data": {
      "image/png": "[encoded data removed]",
      "text/plain": [
       "<Figure size 432x288 with 2 Axes>"
      ]
     },
     "metadata": {
      "needs_background": "light"
     },
     "output_type": "display_data"
    }
   ],
   "source": [
    "import seaborn as sns\n",
    "\n",
    "corr = tracks_df.corr()\n",
    "sns.heatmap(corr)"
   ]
  },
  {
   "cell_type": "markdown",
   "metadata": {},
   "source": [
    "Tuning the model"
   ]
  },
  {
   "cell_type": "code",
   "execution_count": 148,
   "metadata": {
    "ExecuteTime": {
     "end_time": "2020-10-12T16:36:04.624209Z",
     "start_time": "2020-10-12T16:35:32.413347Z"
    },
    "scrolled": true
   },
   "outputs": [
    {
     "name": "stdout",
     "output_type": "stream",
     "text": [
      "\n",
      "Tuning kNN classification model with K-Fold=4...\n",
      "Shape of X_Train:(2643, 8)\n",
      "Shape of y_Train:(2643,)\n",
      "Shape of X_Test:(661, 8)\n",
      "Shape of y_Test:(661,)\n",
      "Finding best k...\n"
     ]
    },
    {
     "data": {
      "image/png": "[encoded data removed]",
      "text/plain": [
       "<Figure size 432x288 with 1 Axes>"
      ]
     },
     "metadata": {
      "needs_background": "light"
     },
     "output_type": "display_data"
    },
    {
     "name": "stdout",
     "output_type": "stream",
     "text": [
      "The optimal number of neighbors is 13 with score 56%\n",
      "\n",
      "Tuning kNN classification model with K-Fold=5...\n",
      "Shape of X_Train:(2643, 8)\n",
      "Shape of y_Train:(2643,)\n",
      "Shape of X_Test:(661, 8)\n",
      "Shape of y_Test:(661,)\n",
      "Finding best k...\n"
     ]
    },
    {
     "data": {
      "image/png": "[encoded data removed]",
      "text/plain": [
       "<Figure size 432x288 with 1 Axes>"
      ]
     },
     "metadata": {
      "needs_background": "light"
     },
     "output_type": "display_data"
    },
    {
     "name": "stdout",
     "output_type": "stream",
     "text": [
      "The optimal number of neighbors is 13 with score 56%\n",
      "\n",
      "Tuning kNN classification model with K-Fold=8...\n",
      "Shape of X_Train:(2643, 8)\n",
      "Shape of y_Train:(2643,)\n",
      "Shape of X_Test:(661, 8)\n",
      "Shape of y_Test:(661,)\n",
      "Finding best k...\n"
     ]
    },
    {
     "data": {
      "image/png": "[encoded data removed]",
      "text/plain": [
       "<Figure size 432x288 with 1 Axes>"
      ]
     },
     "metadata": {
      "needs_background": "light"
     },
     "output_type": "display_data"
    },
    {
     "name": "stdout",
     "output_type": "stream",
     "text": [
      "The optimal number of neighbors is 13 with score 56%\n",
      "\n",
      "Tuning kNN classification model with K-Fold=10...\n",
      "Shape of X_Train:(2643, 8)\n",
      "Shape of y_Train:(2643,)\n",
      "Shape of X_Test:(661, 8)\n",
      "Shape of y_Test:(661,)\n",
      "Finding best k...\n"
     ]
    },
    {
     "data": {
      "image/png": "[encoded data removed]",
      "text/plain": [
       "<Figure size 432x288 with 1 Axes>"
      ]
     },
     "metadata": {
      "needs_background": "light"
     },
     "output_type": "display_data"
    },
    {
     "name": "stdout",
     "output_type": "stream",
     "text": [
      "The optimal number of neighbors is 13 with score 56%\n"
     ]
    }
   ],
   "source": [
    "#Select audio features to use for the model\n",
    "feature_cols = ['danceability', 'energy', 'loudness', 'speechiness', 'acousticness', 'instrumentalness',\\\n",
    "                'liveness', 'valence']\n",
    "results_optimal_k = []\n",
    "\n",
    "kfolds= [4,5,8,10]\n",
    "\n",
    "for d in kfolds:\n",
    "    print('\\nTuning kNN classification model with K-Fold=%d...' % d)\n",
    "    # create feature matrix (X)\n",
    "    X = tracks_df[feature_cols]\n",
    "    y = tracks_df['genre_id']\n",
    "\n",
    "    # creating training set, test set and checking shapes \n",
    "    X_train,X_test,Y_train,Y_test = train_test_split(X,y, test_size=0.2, random_state=42)\n",
    "    print(\"Shape of X_Train:\"+str(X_train.shape))\n",
    "    print(\"Shape of y_Train:\"+str(Y_train.shape))\n",
    "    print(\"Shape of X_Test:\"+str(X_test.shape))\n",
    "    print(\"Shape of y_Test:\"+str(Y_test.shape))\n",
    "    \n",
    "    #train model\n",
    "    cv_scores = []\n",
    "    neighbors=np.arange(2,51)\n",
    "    print('Finding best k...')\n",
    "    \n",
    "    #Perform KNN using K= [1..50] and validate using k-fold k = 5\n",
    "    for k in neighbors:\n",
    "        #print('Fitting for k=%d' % k)\n",
    "        knn = KNeighborsClassifier(n_neighbors=k)\n",
    "        scores = cross_val_score(knn, X_train, Y_train, cv=5, scoring='accuracy')\n",
    "        cv_scores.append(scores.mean())\n",
    "        \n",
    "    # changeto misclassification error\n",
    "    mse = [1 - x for x in cv_scores]\n",
    "\n",
    "    # determining best k\n",
    "    optimal_k = neighbors[mse.index(min(mse))]\n",
    "    results_optimal_k.append(optimal_k)\n",
    "    \n",
    "    knn_optimal = KNeighborsClassifier(n_neighbors=k)\n",
    "    knn_optimal.fit(X, y)\n",
    "    # plot misclassification error vs k\n",
    "    plt.plot(neighbors, mse)\n",
    "    plt.xlabel(\"Number of Neighbors K\")\n",
    "    plt.ylabel(\"Misclassification Error\")\n",
    "    plt.show()\n",
    "    \n",
    "    print(\"The optimal number of neighbors is %d with score %d%%\" % (optimal_k, 100*(1-min(mse))))\n"
   ]
  },
  {
   "cell_type": "code",
   "execution_count": 149,
   "metadata": {
    "ExecuteTime": {
     "end_time": "2020-10-12T16:36:04.632185Z",
     "start_time": "2020-10-12T16:36:04.626203Z"
    }
   },
   "outputs": [
    {
     "data": {
      "text/plain": [
       "[13, 13, 13, 13]"
      ]
     },
     "execution_count": 149,
     "metadata": {},
     "output_type": "execute_result"
    }
   ],
   "source": [
    "#results_optimal_k = [38, 33, 17, 21, 13, 46, 26, 27, 10, 26]\n",
    "results_optimal_k"
   ]
  },
  {
   "cell_type": "markdown",
   "metadata": {},
   "source": [
    "## 5. Model Prediction"
   ]
  },
  {
   "cell_type": "code",
   "execution_count": 150,
   "metadata": {
    "ExecuteTime": {
     "end_time": "2020-10-12T17:48:18.867539Z",
     "start_time": "2020-10-12T17:48:18.834573Z"
    },
    "scrolled": true
   },
   "outputs": [
    {
     "data": {
      "text/html": [
       "<div>\n",
       "<style scoped>\n",
       "    .dataframe tbody tr th:only-of-type {\n",
       "        vertical-align: middle;\n",
       "    }\n",
       "\n",
       "    .dataframe tbody tr th {\n",
       "        vertical-align: top;\n",
       "    }\n",
       "\n",
       "    .dataframe thead th {\n",
       "        text-align: right;\n",
       "    }\n",
       "</style>\n",
       "<table border=\"1\" class=\"dataframe\">\n",
       "  <thead>\n",
       "    <tr style=\"text-align: right;\">\n",
       "      <th></th>\n",
       "      <th>track_id</th>\n",
       "      <th>track_name</th>\n",
       "      <th>artist_id</th>\n",
       "      <th>artist_name</th>\n",
       "      <th>album_id</th>\n",
       "      <th>duration</th>\n",
       "      <th>release_date</th>\n",
       "      <th>popularity</th>\n",
       "      <th>danceability</th>\n",
       "      <th>energy</th>\n",
       "      <th>key</th>\n",
       "      <th>loudness</th>\n",
       "      <th>mode</th>\n",
       "      <th>speechiness</th>\n",
       "      <th>acousticness</th>\n",
       "      <th>instrumentalness</th>\n",
       "      <th>liveness</th>\n",
       "      <th>valence</th>\n",
       "      <th>tempo</th>\n",
       "    </tr>\n",
       "  </thead>\n",
       "  <tbody>\n",
       "    <tr>\n",
       "      <th>0</th>\n",
       "      <td>0ofbQMrRDsUaVKq2mGLEAb</td>\n",
       "      <td>Havana</td>\n",
       "      <td>4nDoRrQiYLoBzwC5BhVJzF</td>\n",
       "      <td>Camila Cabello</td>\n",
       "      <td>5chBPOVY2I0bG5V3igb5QL</td>\n",
       "      <td>216896</td>\n",
       "      <td>2017-08-03</td>\n",
       "      <td>4</td>\n",
       "      <td>0.768</td>\n",
       "      <td>0.517</td>\n",
       "      <td>7</td>\n",
       "      <td>-4.323</td>\n",
       "      <td>0</td>\n",
       "      <td>0.0312</td>\n",
       "      <td>0.18600</td>\n",
       "      <td>0.000038</td>\n",
       "      <td>0.1040</td>\n",
       "      <td>0.418</td>\n",
       "      <td>104.992</td>\n",
       "    </tr>\n",
       "    <tr>\n",
       "      <th>1</th>\n",
       "      <td>0tgVpDi06FyKpA1z0VMD4v</td>\n",
       "      <td>Perfect</td>\n",
       "      <td>6eUKZXaKkcviH0Ku9w2n3V</td>\n",
       "      <td>Ed Sheeran</td>\n",
       "      <td>3T4tUhGYeRNVUGevb0wThu</td>\n",
       "      <td>263400</td>\n",
       "      <td>2017-03-03</td>\n",
       "      <td>86</td>\n",
       "      <td>0.599</td>\n",
       "      <td>0.448</td>\n",
       "      <td>8</td>\n",
       "      <td>-6.312</td>\n",
       "      <td>1</td>\n",
       "      <td>0.0232</td>\n",
       "      <td>0.16300</td>\n",
       "      <td>0.000000</td>\n",
       "      <td>0.1060</td>\n",
       "      <td>0.168</td>\n",
       "      <td>95.050</td>\n",
       "    </tr>\n",
       "    <tr>\n",
       "      <th>2</th>\n",
       "      <td>3hBBKuWJfxlIlnd9QFoC8k</td>\n",
       "      <td>What Lovers Do (feat. SZA)</td>\n",
       "      <td>04gDigrS5kc9YWfZHwBETP</td>\n",
       "      <td>Maroon 5</td>\n",
       "      <td>1Jmq5HEJeA9kNi2SgQul4U</td>\n",
       "      <td>199849</td>\n",
       "      <td>2017-11-03</td>\n",
       "      <td>4</td>\n",
       "      <td>0.795</td>\n",
       "      <td>0.615</td>\n",
       "      <td>5</td>\n",
       "      <td>-5.211</td>\n",
       "      <td>0</td>\n",
       "      <td>0.0671</td>\n",
       "      <td>0.07860</td>\n",
       "      <td>0.000003</td>\n",
       "      <td>0.0855</td>\n",
       "      <td>0.393</td>\n",
       "      <td>110.009</td>\n",
       "    </tr>\n",
       "    <tr>\n",
       "      <th>3</th>\n",
       "      <td>1mXVgsBdtIVeCLJnSnmtdV</td>\n",
       "      <td>Too Good At Goodbyes</td>\n",
       "      <td>2wY79sveU1sp5g7SokKOiI</td>\n",
       "      <td>Sam Smith</td>\n",
       "      <td>3TJz2UBNYJtlEly0sPeNrQ</td>\n",
       "      <td>201000</td>\n",
       "      <td>2017-11-03</td>\n",
       "      <td>81</td>\n",
       "      <td>0.681</td>\n",
       "      <td>0.372</td>\n",
       "      <td>5</td>\n",
       "      <td>-8.237</td>\n",
       "      <td>1</td>\n",
       "      <td>0.0432</td>\n",
       "      <td>0.64000</td>\n",
       "      <td>0.000000</td>\n",
       "      <td>0.1690</td>\n",
       "      <td>0.476</td>\n",
       "      <td>91.873</td>\n",
       "    </tr>\n",
       "    <tr>\n",
       "      <th>4</th>\n",
       "      <td>2ekn2ttSfGqwhhate0LSR0</td>\n",
       "      <td>New Rules</td>\n",
       "      <td>6M2wZ9GZgrQXHCFfjv46we</td>\n",
       "      <td>Dua Lipa</td>\n",
       "      <td>01sfgrNbnnPUEyz6GZYlt9</td>\n",
       "      <td>209320</td>\n",
       "      <td>2017-06-02</td>\n",
       "      <td>80</td>\n",
       "      <td>0.762</td>\n",
       "      <td>0.700</td>\n",
       "      <td>9</td>\n",
       "      <td>-6.021</td>\n",
       "      <td>0</td>\n",
       "      <td>0.0694</td>\n",
       "      <td>0.00261</td>\n",
       "      <td>0.000016</td>\n",
       "      <td>0.1530</td>\n",
       "      <td>0.608</td>\n",
       "      <td>116.073</td>\n",
       "    </tr>\n",
       "  </tbody>\n",
       "</table>\n",
       "</div>"
      ],
      "text/plain": [
       "                 track_id                  track_name               artist_id  \\\n",
       "0  0ofbQMrRDsUaVKq2mGLEAb                      Havana  4nDoRrQiYLoBzwC5BhVJzF   \n",
       "1  0tgVpDi06FyKpA1z0VMD4v                     Perfect  6eUKZXaKkcviH0Ku9w2n3V   \n",
       "2  3hBBKuWJfxlIlnd9QFoC8k  What Lovers Do (feat. SZA)  04gDigrS5kc9YWfZHwBETP   \n",
       "3  1mXVgsBdtIVeCLJnSnmtdV        Too Good At Goodbyes  2wY79sveU1sp5g7SokKOiI   \n",
       "4  2ekn2ttSfGqwhhate0LSR0                   New Rules  6M2wZ9GZgrQXHCFfjv46we   \n",
       "\n",
       "      artist_name                album_id  duration release_date  popularity  \\\n",
       "0  Camila Cabello  5chBPOVY2I0bG5V3igb5QL    216896   2017-08-03           4   \n",
       "1      Ed Sheeran  3T4tUhGYeRNVUGevb0wThu    263400   2017-03-03          86   \n",
       "2        Maroon 5  1Jmq5HEJeA9kNi2SgQul4U    199849   2017-11-03           4   \n",
       "3       Sam Smith  3TJz2UBNYJtlEly0sPeNrQ    201000   2017-11-03          81   \n",
       "4        Dua Lipa  01sfgrNbnnPUEyz6GZYlt9    209320   2017-06-02          80   \n",
       "\n",
       "   danceability  energy  key  loudness  mode  speechiness  acousticness  \\\n",
       "0         0.768   0.517    7    -4.323     0       0.0312       0.18600   \n",
       "1         0.599   0.448    8    -6.312     1       0.0232       0.16300   \n",
       "2         0.795   0.615    5    -5.211     0       0.0671       0.07860   \n",
       "3         0.681   0.372    5    -8.237     1       0.0432       0.64000   \n",
       "4         0.762   0.700    9    -6.021     0       0.0694       0.00261   \n",
       "\n",
       "   instrumentalness  liveness  valence    tempo  \n",
       "0          0.000038    0.1040    0.418  104.992  \n",
       "1          0.000000    0.1060    0.168   95.050  \n",
       "2          0.000003    0.0855    0.393  110.009  \n",
       "3          0.000000    0.1690    0.476   91.873  \n",
       "4          0.000016    0.1530    0.608  116.073  "
      ]
     },
     "execution_count": 150,
     "metadata": {},
     "output_type": "execute_result"
    }
   ],
   "source": [
    "chart_tracks_df = pd.read_csv(\"data/spotify_daily_charts_tracks.csv\")\n",
    "chart_tracks_df.head()"
   ]
  },
  {
   "cell_type": "code",
   "execution_count": 151,
   "metadata": {
    "ExecuteTime": {
     "end_time": "2020-10-12T17:48:19.167896Z",
     "start_time": "2020-10-12T17:48:19.154702Z"
    }
   },
   "outputs": [],
   "source": [
    "#normalize loudness and tempo\n",
    "chart_tracks_df['loudness'] = scaler.fit_transform(chart_tracks_df[['loudness']])\n",
    "chart_tracks_df['tempo'] =  scaler.fit_transform(chart_tracks_df[['tempo']])"
   ]
  },
  {
   "cell_type": "markdown",
   "metadata": {},
   "source": [
    "Test the model with external data by predicting the genres of the spotify charting tracks!"
   ]
  },
  {
   "cell_type": "code",
   "execution_count": 152,
   "metadata": {
    "ExecuteTime": {
     "end_time": "2020-10-12T17:48:26.905646Z",
     "start_time": "2020-10-12T17:48:19.757995Z"
    },
    "scrolled": true
   },
   "outputs": [
    {
     "name": "stdout",
     "output_type": "stream",
     "text": [
      "Predicting with optimal k: 13\n"
     ]
    }
   ],
   "source": [
    "#Predict genres of the spotify charts\n",
    "feature_cols = ['danceability', 'energy', 'loudness', 'speechiness', 'acousticness', 'instrumentalness',\\\n",
    "                'liveness', 'valence', 'tempo']\n",
    "genres = [genre_lookup[i] for i in np.arange(len(genre_names))]\n",
    "\n",
    "n=3 #pick kfold=10\n",
    "print(\"Predicting with optimal k: %d\" %(results_optimal_k[n]))\n",
    "\n",
    "knn_optimal = KNeighborsClassifier(n_neighbors=results_optimal_k[n])\n",
    "X = tracks_df[feature_cols]\n",
    "y = tracks_df['genre_id']\n",
    "knn_optimal.fit(X, y)\n",
    "\n",
    "chart_tracks_df['predicted_genre_id'] = chart_tracks_df.apply(lambda x:  knn_optimal.predict(x[feature_cols].values.reshape(1,-1))[0]\\\n",
    "                                               , axis=1)\n",
    "chart_tracks_df['predicted_genre'] = chart_tracks_df['predicted_genre_id'].apply(lambda x: genre_lookup[x])\n",
    "chart_tracks_df['predicted_genre_prob'] = chart_tracks_df.apply(lambda x:  np.max(knn_optimal.predict_proba(x[feature_cols].values.reshape(1,-1)))\\\n",
    "                                                    , axis=1)\n",
    "chart_tracks_df['all_genre_prob'] = chart_tracks_df.apply(lambda x:  knn_optimal.predict_proba(x[feature_cols].values.reshape(1,-1))[0]\\\n",
    "                                                    , axis=1)\n"
   ]
  },
  {
   "cell_type": "code",
   "execution_count": 153,
   "metadata": {
    "ExecuteTime": {
     "end_time": "2020-10-12T17:48:26.946851Z",
     "start_time": "2020-10-12T17:48:26.907572Z"
    },
    "scrolled": true
   },
   "outputs": [
    {
     "data": {
      "text/html": [
       "<div>\n",
       "<style scoped>\n",
       "    .dataframe tbody tr th:only-of-type {\n",
       "        vertical-align: middle;\n",
       "    }\n",
       "\n",
       "    .dataframe tbody tr th {\n",
       "        vertical-align: top;\n",
       "    }\n",
       "\n",
       "    .dataframe thead th {\n",
       "        text-align: right;\n",
       "    }\n",
       "</style>\n",
       "<table border=\"1\" class=\"dataframe\">\n",
       "  <thead>\n",
       "    <tr style=\"text-align: right;\">\n",
       "      <th></th>\n",
       "      <th>track_id</th>\n",
       "      <th>track_name</th>\n",
       "      <th>artist_id</th>\n",
       "      <th>artist_name</th>\n",
       "      <th>album_id</th>\n",
       "      <th>duration</th>\n",
       "      <th>release_date</th>\n",
       "      <th>popularity</th>\n",
       "      <th>danceability</th>\n",
       "      <th>energy</th>\n",
       "      <th>...</th>\n",
       "      <th>predicted_genre_prob</th>\n",
       "      <th>predicted_classical_prob</th>\n",
       "      <th>predicted_country_prob</th>\n",
       "      <th>predicted_electronic_prob</th>\n",
       "      <th>predicted_folk pop_prob</th>\n",
       "      <th>predicted_jazz_prob</th>\n",
       "      <th>predicted_pop_prob</th>\n",
       "      <th>predicted_rap_prob</th>\n",
       "      <th>predicted_rnb_prob</th>\n",
       "      <th>predicted_rock_prob</th>\n",
       "    </tr>\n",
       "  </thead>\n",
       "  <tbody>\n",
       "    <tr>\n",
       "      <th>1165</th>\n",
       "      <td>2HO0uCyq8jOveEzvmo4JEu</td>\n",
       "      <td>Fly</td>\n",
       "      <td>64KEffDW9EtZ1y2vBYgq8T</td>\n",
       "      <td>Marshmello</td>\n",
       "      <td>3HuhZO6x7i7vXqjQfOEh7b</td>\n",
       "      <td>193777</td>\n",
       "      <td>2018-03-09</td>\n",
       "      <td>64</td>\n",
       "      <td>0.630</td>\n",
       "      <td>0.900</td>\n",
       "      <td>...</td>\n",
       "      <td>1.000000</td>\n",
       "      <td>0.0</td>\n",
       "      <td>0.000000</td>\n",
       "      <td>1.0</td>\n",
       "      <td>0.000000</td>\n",
       "      <td>0.000000</td>\n",
       "      <td>0.0</td>\n",
       "      <td>0.0</td>\n",
       "      <td>0.0</td>\n",
       "      <td>0.000000</td>\n",
       "    </tr>\n",
       "    <tr>\n",
       "      <th>1697</th>\n",
       "      <td>2mlGPkAx4kwF8Df0GlScsC</td>\n",
       "      <td>Buttercup</td>\n",
       "      <td>1vVHevk2PD45epYnDi9CCc</td>\n",
       "      <td>Jack Stauber</td>\n",
       "      <td>1RHa1VdX6lsLbeedgsV1cb</td>\n",
       "      <td>208026</td>\n",
       "      <td>2017-03-25</td>\n",
       "      <td>80</td>\n",
       "      <td>0.705</td>\n",
       "      <td>0.373</td>\n",
       "      <td>...</td>\n",
       "      <td>1.000000</td>\n",
       "      <td>0.0</td>\n",
       "      <td>0.000000</td>\n",
       "      <td>0.0</td>\n",
       "      <td>0.000000</td>\n",
       "      <td>1.000000</td>\n",
       "      <td>0.0</td>\n",
       "      <td>0.0</td>\n",
       "      <td>0.0</td>\n",
       "      <td>0.000000</td>\n",
       "    </tr>\n",
       "    <tr>\n",
       "      <th>2119</th>\n",
       "      <td>61lfBHo44YaBIhAx1031CP</td>\n",
       "      <td>dear P</td>\n",
       "      <td>0Vw76uk7P8yVtTClWyOhac</td>\n",
       "      <td>HONNE</td>\n",
       "      <td>3DG5MS8iKYcJROCnb1DYDf</td>\n",
       "      <td>61426</td>\n",
       "      <td>2020-07-03</td>\n",
       "      <td>51</td>\n",
       "      <td>0.304</td>\n",
       "      <td>0.154</td>\n",
       "      <td>...</td>\n",
       "      <td>1.000000</td>\n",
       "      <td>1.0</td>\n",
       "      <td>0.000000</td>\n",
       "      <td>0.0</td>\n",
       "      <td>0.000000</td>\n",
       "      <td>0.000000</td>\n",
       "      <td>0.0</td>\n",
       "      <td>0.0</td>\n",
       "      <td>0.0</td>\n",
       "      <td>0.000000</td>\n",
       "    </tr>\n",
       "    <tr>\n",
       "      <th>141</th>\n",
       "      <td>4VuS959DSpr82t3qBqCrWG</td>\n",
       "      <td>Supermarket Flowers</td>\n",
       "      <td>6eUKZXaKkcviH0Ku9w2n3V</td>\n",
       "      <td>Ed Sheeran</td>\n",
       "      <td>3T4tUhGYeRNVUGevb0wThu</td>\n",
       "      <td>221106</td>\n",
       "      <td>2017-03-03</td>\n",
       "      <td>77</td>\n",
       "      <td>0.589</td>\n",
       "      <td>0.242</td>\n",
       "      <td>...</td>\n",
       "      <td>0.923077</td>\n",
       "      <td>0.0</td>\n",
       "      <td>0.000000</td>\n",
       "      <td>0.0</td>\n",
       "      <td>0.076923</td>\n",
       "      <td>0.923077</td>\n",
       "      <td>0.0</td>\n",
       "      <td>0.0</td>\n",
       "      <td>0.0</td>\n",
       "      <td>0.000000</td>\n",
       "    </tr>\n",
       "    <tr>\n",
       "      <th>1098</th>\n",
       "      <td>3PIDciSFdrQxSQSihim3hN</td>\n",
       "      <td>Christmas (Baby Please Come Home)</td>\n",
       "      <td>4iHNK0tOyZPYnBU7nGAgpQ</td>\n",
       "      <td>Mariah Carey</td>\n",
       "      <td>61ulfFSmmxMhc2wCdmdMkN</td>\n",
       "      <td>153240</td>\n",
       "      <td>1994-11-01</td>\n",
       "      <td>61</td>\n",
       "      <td>0.566</td>\n",
       "      <td>0.782</td>\n",
       "      <td>...</td>\n",
       "      <td>0.923077</td>\n",
       "      <td>0.0</td>\n",
       "      <td>0.076923</td>\n",
       "      <td>0.0</td>\n",
       "      <td>0.000000</td>\n",
       "      <td>0.000000</td>\n",
       "      <td>0.0</td>\n",
       "      <td>0.0</td>\n",
       "      <td>0.0</td>\n",
       "      <td>0.923077</td>\n",
       "    </tr>\n",
       "  </tbody>\n",
       "</table>\n",
       "<p>5 rows × 31 columns</p>\n",
       "</div>"
      ],
      "text/plain": [
       "                    track_id                         track_name  \\\n",
       "1165  2HO0uCyq8jOveEzvmo4JEu                                Fly   \n",
       "1697  2mlGPkAx4kwF8Df0GlScsC                          Buttercup   \n",
       "2119  61lfBHo44YaBIhAx1031CP                             dear P   \n",
       "141   4VuS959DSpr82t3qBqCrWG                Supermarket Flowers   \n",
       "1098  3PIDciSFdrQxSQSihim3hN  Christmas (Baby Please Come Home)   \n",
       "\n",
       "                   artist_id   artist_name                album_id  duration  \\\n",
       "1165  64KEffDW9EtZ1y2vBYgq8T    Marshmello  3HuhZO6x7i7vXqjQfOEh7b    193777   \n",
       "1697  1vVHevk2PD45epYnDi9CCc  Jack Stauber  1RHa1VdX6lsLbeedgsV1cb    208026   \n",
       "2119  0Vw76uk7P8yVtTClWyOhac         HONNE  3DG5MS8iKYcJROCnb1DYDf     61426   \n",
       "141   6eUKZXaKkcviH0Ku9w2n3V    Ed Sheeran  3T4tUhGYeRNVUGevb0wThu    221106   \n",
       "1098  4iHNK0tOyZPYnBU7nGAgpQ  Mariah Carey  61ulfFSmmxMhc2wCdmdMkN    153240   \n",
       "\n",
       "     release_date  popularity  danceability  energy  ...  \\\n",
       "1165   2018-03-09          64         0.630   0.900  ...   \n",
       "1697   2017-03-25          80         0.705   0.373  ...   \n",
       "2119   2020-07-03          51         0.304   0.154  ...   \n",
       "141    2017-03-03          77         0.589   0.242  ...   \n",
       "1098   1994-11-01          61         0.566   0.782  ...   \n",
       "\n",
       "      predicted_genre_prob  predicted_classical_prob  predicted_country_prob  \\\n",
       "1165              1.000000                       0.0                0.000000   \n",
       "1697              1.000000                       0.0                0.000000   \n",
       "2119              1.000000                       1.0                0.000000   \n",
       "141               0.923077                       0.0                0.000000   \n",
       "1098              0.923077                       0.0                0.076923   \n",
       "\n",
       "      predicted_electronic_prob  predicted_folk pop_prob  predicted_jazz_prob  \\\n",
       "1165                        1.0                 0.000000             0.000000   \n",
       "1697                        0.0                 0.000000             1.000000   \n",
       "2119                        0.0                 0.000000             0.000000   \n",
       "141                         0.0                 0.076923             0.923077   \n",
       "1098                        0.0                 0.000000             0.000000   \n",
       "\n",
       "      predicted_pop_prob  predicted_rap_prob  predicted_rnb_prob  \\\n",
       "1165                 0.0                 0.0                 0.0   \n",
       "1697                 0.0                 0.0                 0.0   \n",
       "2119                 0.0                 0.0                 0.0   \n",
       "141                  0.0                 0.0                 0.0   \n",
       "1098                 0.0                 0.0                 0.0   \n",
       "\n",
       "      predicted_rock_prob  \n",
       "1165             0.000000  \n",
       "1697             0.000000  \n",
       "2119             0.000000  \n",
       "141              0.000000  \n",
       "1098             0.923077  \n",
       "\n",
       "[5 rows x 31 columns]"
      ]
     },
     "execution_count": 153,
     "metadata": {},
     "output_type": "execute_result"
    }
   ],
   "source": [
    "#explode genre probabilities into separate columns\n",
    "charts_predicted_genre_prob = pd.DataFrame(chart_tracks_df[\"all_genre_prob\"].to_list(),\n",
    "                                           columns=['predicted_'+g+'_prob' for g in genres])\n",
    "charts_predicted_genre_prob['track_id'] = chart_tracks_df['track_id']\n",
    "chart_tracks_df = pd.merge(chart_tracks_df,charts_predicted_genre_prob, how='left', on='track_id')\n",
    "chart_tracks_df = chart_tracks_df.drop(columns='all_genre_prob')\n",
    "chart_tracks_df = chart_tracks_df.sort_values('predicted_genre_prob', ascending=False)\n",
    "chart_tracks_df.head()"
   ]
  },
  {
   "cell_type": "markdown",
   "metadata": {},
   "source": [
    "Check out tracks with highest assigned probability"
   ]
  },
  {
   "cell_type": "code",
   "execution_count": 154,
   "metadata": {
    "ExecuteTime": {
     "end_time": "2020-10-12T17:48:26.972791Z",
     "start_time": "2020-10-12T17:48:26.948846Z"
    }
   },
   "outputs": [
    {
     "data": {
      "text/html": [
       "<div>\n",
       "<style scoped>\n",
       "    .dataframe tbody tr th:only-of-type {\n",
       "        vertical-align: middle;\n",
       "    }\n",
       "\n",
       "    .dataframe tbody tr th {\n",
       "        vertical-align: top;\n",
       "    }\n",
       "\n",
       "    .dataframe thead th {\n",
       "        text-align: right;\n",
       "    }\n",
       "</style>\n",
       "<table border=\"1\" class=\"dataframe\">\n",
       "  <thead>\n",
       "    <tr style=\"text-align: right;\">\n",
       "      <th></th>\n",
       "      <th>artist_name</th>\n",
       "      <th>track_name</th>\n",
       "      <th>predicted_genre</th>\n",
       "      <th>predicted_genre_prob</th>\n",
       "    </tr>\n",
       "  </thead>\n",
       "  <tbody>\n",
       "    <tr>\n",
       "      <th>1165</th>\n",
       "      <td>Marshmello</td>\n",
       "      <td>Fly</td>\n",
       "      <td>electronic</td>\n",
       "      <td>1.000000</td>\n",
       "    </tr>\n",
       "    <tr>\n",
       "      <th>1697</th>\n",
       "      <td>Jack Stauber</td>\n",
       "      <td>Buttercup</td>\n",
       "      <td>jazz</td>\n",
       "      <td>1.000000</td>\n",
       "    </tr>\n",
       "    <tr>\n",
       "      <th>2119</th>\n",
       "      <td>HONNE</td>\n",
       "      <td>dear P</td>\n",
       "      <td>classical</td>\n",
       "      <td>1.000000</td>\n",
       "    </tr>\n",
       "    <tr>\n",
       "      <th>141</th>\n",
       "      <td>Ed Sheeran</td>\n",
       "      <td>Supermarket Flowers</td>\n",
       "      <td>jazz</td>\n",
       "      <td>0.923077</td>\n",
       "    </tr>\n",
       "    <tr>\n",
       "      <th>1098</th>\n",
       "      <td>Mariah Carey</td>\n",
       "      <td>Christmas (Baby Please Come Home)</td>\n",
       "      <td>rock</td>\n",
       "      <td>0.923077</td>\n",
       "    </tr>\n",
       "    <tr>\n",
       "      <th>342</th>\n",
       "      <td>Charice</td>\n",
       "      <td>Sometimes Love Just Ain't Enough</td>\n",
       "      <td>jazz</td>\n",
       "      <td>0.846154</td>\n",
       "    </tr>\n",
       "    <tr>\n",
       "      <th>158</th>\n",
       "      <td>Howie Day</td>\n",
       "      <td>Collide - Acoustic Version</td>\n",
       "      <td>jazz</td>\n",
       "      <td>0.846154</td>\n",
       "    </tr>\n",
       "    <tr>\n",
       "      <th>384</th>\n",
       "      <td>Moira Dela Torre</td>\n",
       "      <td>Take Her to the Moon</td>\n",
       "      <td>jazz</td>\n",
       "      <td>0.846154</td>\n",
       "    </tr>\n",
       "    <tr>\n",
       "      <th>575</th>\n",
       "      <td>Eraserheads</td>\n",
       "      <td>Ligaya</td>\n",
       "      <td>rock</td>\n",
       "      <td>0.846154</td>\n",
       "    </tr>\n",
       "    <tr>\n",
       "      <th>357</th>\n",
       "      <td>BlocBoy JB</td>\n",
       "      <td>Look Alive (feat. Drake)</td>\n",
       "      <td>rap</td>\n",
       "      <td>0.846154</td>\n",
       "    </tr>\n",
       "    <tr>\n",
       "      <th>2223</th>\n",
       "      <td>Cardi B</td>\n",
       "      <td>WAP (feat. Megan Thee Stallion)</td>\n",
       "      <td>rap</td>\n",
       "      <td>0.846154</td>\n",
       "    </tr>\n",
       "    <tr>\n",
       "      <th>2244</th>\n",
       "      <td>BTS</td>\n",
       "      <td>Dynamite - EDM Remix</td>\n",
       "      <td>electronic</td>\n",
       "      <td>0.846154</td>\n",
       "    </tr>\n",
       "    <tr>\n",
       "      <th>2241</th>\n",
       "      <td>BTS</td>\n",
       "      <td>Dynamite - Instrumental</td>\n",
       "      <td>electronic</td>\n",
       "      <td>0.846154</td>\n",
       "    </tr>\n",
       "    <tr>\n",
       "      <th>1150</th>\n",
       "      <td>IV Of Spades</td>\n",
       "      <td>Take That Man</td>\n",
       "      <td>rock</td>\n",
       "      <td>0.846154</td>\n",
       "    </tr>\n",
       "    <tr>\n",
       "      <th>197</th>\n",
       "      <td>Ed Sheeran</td>\n",
       "      <td>Castle on the Hill</td>\n",
       "      <td>rock</td>\n",
       "      <td>0.846154</td>\n",
       "    </tr>\n",
       "    <tr>\n",
       "      <th>2002</th>\n",
       "      <td>Eraserheads</td>\n",
       "      <td>Pare Ko</td>\n",
       "      <td>rock</td>\n",
       "      <td>0.846154</td>\n",
       "    </tr>\n",
       "    <tr>\n",
       "      <th>1145</th>\n",
       "      <td>Gary Valenciano</td>\n",
       "      <td>Pasko Na Sinta Ko</td>\n",
       "      <td>classical</td>\n",
       "      <td>0.846154</td>\n",
       "    </tr>\n",
       "    <tr>\n",
       "      <th>21</th>\n",
       "      <td>Eminem</td>\n",
       "      <td>River (feat. Ed Sheeran)</td>\n",
       "      <td>rap</td>\n",
       "      <td>0.846154</td>\n",
       "    </tr>\n",
       "    <tr>\n",
       "      <th>468</th>\n",
       "      <td>Cardi B</td>\n",
       "      <td>Be Careful</td>\n",
       "      <td>rap</td>\n",
       "      <td>0.846154</td>\n",
       "    </tr>\n",
       "    <tr>\n",
       "      <th>493</th>\n",
       "      <td>Avicii</td>\n",
       "      <td>Levels - Radio Edit</td>\n",
       "      <td>electronic</td>\n",
       "      <td>0.769231</td>\n",
       "    </tr>\n",
       "    <tr>\n",
       "      <th>382</th>\n",
       "      <td>David Guetta</td>\n",
       "      <td>Like I Do</td>\n",
       "      <td>electronic</td>\n",
       "      <td>0.769231</td>\n",
       "    </tr>\n",
       "    <tr>\n",
       "      <th>314</th>\n",
       "      <td>Austyn Johnson</td>\n",
       "      <td>A Million Dreams (Reprise)</td>\n",
       "      <td>classical</td>\n",
       "      <td>0.769231</td>\n",
       "    </tr>\n",
       "    <tr>\n",
       "      <th>1136</th>\n",
       "      <td>Cocoy Claravall</td>\n",
       "      <td>Pangako sa Pasko</td>\n",
       "      <td>classical</td>\n",
       "      <td>0.769231</td>\n",
       "    </tr>\n",
       "    <tr>\n",
       "      <th>315</th>\n",
       "      <td>Loren Allred</td>\n",
       "      <td>Never Enough (Reprise)</td>\n",
       "      <td>classical</td>\n",
       "      <td>0.769231</td>\n",
       "    </tr>\n",
       "    <tr>\n",
       "      <th>122</th>\n",
       "      <td>Cardi B</td>\n",
       "      <td>Bartier Cardi (feat. 21 Savage)</td>\n",
       "      <td>rap</td>\n",
       "      <td>0.769231</td>\n",
       "    </tr>\n",
       "    <tr>\n",
       "      <th>282</th>\n",
       "      <td>Rudimental</td>\n",
       "      <td>These Days (feat. Jess Glynne, Macklemore &amp; Da...</td>\n",
       "      <td>country</td>\n",
       "      <td>0.692308</td>\n",
       "    </tr>\n",
       "    <tr>\n",
       "      <th>67</th>\n",
       "      <td>Bruno Mars</td>\n",
       "      <td>That's What I Like</td>\n",
       "      <td>rnb</td>\n",
       "      <td>0.692308</td>\n",
       "    </tr>\n",
       "    <tr>\n",
       "      <th>2105</th>\n",
       "      <td>SEVENTEEN</td>\n",
       "      <td>I Wish</td>\n",
       "      <td>country</td>\n",
       "      <td>0.615385</td>\n",
       "    </tr>\n",
       "    <tr>\n",
       "      <th>1539</th>\n",
       "      <td>Taylor Swift</td>\n",
       "      <td>Cruel Summer</td>\n",
       "      <td>country</td>\n",
       "      <td>0.615385</td>\n",
       "    </tr>\n",
       "    <tr>\n",
       "      <th>1546</th>\n",
       "      <td>Taylor Swift</td>\n",
       "      <td>ME! (feat. Brendon Urie of Panic! At The Disco)</td>\n",
       "      <td>country</td>\n",
       "      <td>0.615385</td>\n",
       "    </tr>\n",
       "    <tr>\n",
       "      <th>2103</th>\n",
       "      <td>SEVENTEEN</td>\n",
       "      <td>Fearless</td>\n",
       "      <td>country</td>\n",
       "      <td>0.615385</td>\n",
       "    </tr>\n",
       "    <tr>\n",
       "      <th>896</th>\n",
       "      <td>Leona Lewis</td>\n",
       "      <td>Bleeding Love</td>\n",
       "      <td>pop</td>\n",
       "      <td>0.615385</td>\n",
       "    </tr>\n",
       "    <tr>\n",
       "      <th>224</th>\n",
       "      <td>Little Mix</td>\n",
       "      <td>Secret Love Song (feat. Jason Derulo)</td>\n",
       "      <td>pop</td>\n",
       "      <td>0.615385</td>\n",
       "    </tr>\n",
       "    <tr>\n",
       "      <th>221</th>\n",
       "      <td>Snow Patrol</td>\n",
       "      <td>Chasing Cars</td>\n",
       "      <td>pop</td>\n",
       "      <td>0.615385</td>\n",
       "    </tr>\n",
       "    <tr>\n",
       "      <th>586</th>\n",
       "      <td>Shawn Mendes</td>\n",
       "      <td>Nervous</td>\n",
       "      <td>rnb</td>\n",
       "      <td>0.615385</td>\n",
       "    </tr>\n",
       "    <tr>\n",
       "      <th>1795</th>\n",
       "      <td>Justin Bieber</td>\n",
       "      <td>Get Me</td>\n",
       "      <td>rnb</td>\n",
       "      <td>0.615385</td>\n",
       "    </tr>\n",
       "    <tr>\n",
       "      <th>281</th>\n",
       "      <td>BLACKPINK</td>\n",
       "      <td>As If It's Your Last</td>\n",
       "      <td>pop</td>\n",
       "      <td>0.615385</td>\n",
       "    </tr>\n",
       "    <tr>\n",
       "      <th>2151</th>\n",
       "      <td>Rich Brian</td>\n",
       "      <td>Love In My Pocket</td>\n",
       "      <td>rnb</td>\n",
       "      <td>0.615385</td>\n",
       "    </tr>\n",
       "    <tr>\n",
       "      <th>518</th>\n",
       "      <td>Post Malone</td>\n",
       "      <td>Spoil My Night (feat. Swae Lee)</td>\n",
       "      <td>pop</td>\n",
       "      <td>0.615385</td>\n",
       "    </tr>\n",
       "    <tr>\n",
       "      <th>15</th>\n",
       "      <td>Charlie Puth</td>\n",
       "      <td>How Long</td>\n",
       "      <td>rnb</td>\n",
       "      <td>0.615385</td>\n",
       "    </tr>\n",
       "    <tr>\n",
       "      <th>1710</th>\n",
       "      <td>Harry Styles</td>\n",
       "      <td>Falling</td>\n",
       "      <td>folk pop</td>\n",
       "      <td>0.384615</td>\n",
       "    </tr>\n",
       "    <tr>\n",
       "      <th>1505</th>\n",
       "      <td>Russ</td>\n",
       "      <td>Losin Control</td>\n",
       "      <td>folk pop</td>\n",
       "      <td>0.307692</td>\n",
       "    </tr>\n",
       "    <tr>\n",
       "      <th>416</th>\n",
       "      <td>KZ Tandingan</td>\n",
       "      <td>Till My Heartaches End - From \"The Significant...</td>\n",
       "      <td>folk pop</td>\n",
       "      <td>0.307692</td>\n",
       "    </tr>\n",
       "    <tr>\n",
       "      <th>57</th>\n",
       "      <td>LANY</td>\n",
       "      <td>ILYSB - STRIPPED</td>\n",
       "      <td>folk pop</td>\n",
       "      <td>0.307692</td>\n",
       "    </tr>\n",
       "    <tr>\n",
       "      <th>77</th>\n",
       "      <td>Silent Sanctuary</td>\n",
       "      <td>Malayo Na Tayo</td>\n",
       "      <td>folk pop</td>\n",
       "      <td>0.307692</td>\n",
       "    </tr>\n",
       "  </tbody>\n",
       "</table>\n",
       "</div>"
      ],
      "text/plain": [
       "           artist_name                                         track_name  \\\n",
       "1165        Marshmello                                                Fly   \n",
       "1697      Jack Stauber                                          Buttercup   \n",
       "2119             HONNE                                             dear P   \n",
       "141         Ed Sheeran                                Supermarket Flowers   \n",
       "1098      Mariah Carey                  Christmas (Baby Please Come Home)   \n",
       "342            Charice                   Sometimes Love Just Ain't Enough   \n",
       "158          Howie Day                         Collide - Acoustic Version   \n",
       "384   Moira Dela Torre                               Take Her to the Moon   \n",
       "575        Eraserheads                                             Ligaya   \n",
       "357         BlocBoy JB                           Look Alive (feat. Drake)   \n",
       "2223           Cardi B                    WAP (feat. Megan Thee Stallion)   \n",
       "2244               BTS                               Dynamite - EDM Remix   \n",
       "2241               BTS                            Dynamite - Instrumental   \n",
       "1150      IV Of Spades                                      Take That Man   \n",
       "197         Ed Sheeran                                 Castle on the Hill   \n",
       "2002       Eraserheads                                            Pare Ko   \n",
       "1145   Gary Valenciano                                  Pasko Na Sinta Ko   \n",
       "21              Eminem                           River (feat. Ed Sheeran)   \n",
       "468            Cardi B                                         Be Careful   \n",
       "493             Avicii                                Levels - Radio Edit   \n",
       "382       David Guetta                                          Like I Do   \n",
       "314     Austyn Johnson                         A Million Dreams (Reprise)   \n",
       "1136   Cocoy Claravall                                   Pangako sa Pasko   \n",
       "315       Loren Allred                             Never Enough (Reprise)   \n",
       "122            Cardi B                    Bartier Cardi (feat. 21 Savage)   \n",
       "282         Rudimental  These Days (feat. Jess Glynne, Macklemore & Da...   \n",
       "67          Bruno Mars                                 That's What I Like   \n",
       "2105         SEVENTEEN                                             I Wish   \n",
       "1539      Taylor Swift                                       Cruel Summer   \n",
       "1546      Taylor Swift    ME! (feat. Brendon Urie of Panic! At The Disco)   \n",
       "2103         SEVENTEEN                                           Fearless   \n",
       "896        Leona Lewis                                      Bleeding Love   \n",
       "224         Little Mix              Secret Love Song (feat. Jason Derulo)   \n",
       "221        Snow Patrol                                       Chasing Cars   \n",
       "586       Shawn Mendes                                            Nervous   \n",
       "1795     Justin Bieber                                             Get Me   \n",
       "281          BLACKPINK                               As If It's Your Last   \n",
       "2151        Rich Brian                                  Love In My Pocket   \n",
       "518        Post Malone                    Spoil My Night (feat. Swae Lee)   \n",
       "15        Charlie Puth                                           How Long   \n",
       "1710      Harry Styles                                            Falling   \n",
       "1505              Russ                                      Losin Control   \n",
       "416       KZ Tandingan  Till My Heartaches End - From \"The Significant...   \n",
       "57                LANY                                   ILYSB - STRIPPED   \n",
       "77    Silent Sanctuary                                     Malayo Na Tayo   \n",
       "\n",
       "     predicted_genre  predicted_genre_prob  \n",
       "1165      electronic              1.000000  \n",
       "1697            jazz              1.000000  \n",
       "2119       classical              1.000000  \n",
       "141             jazz              0.923077  \n",
       "1098            rock              0.923077  \n",
       "342             jazz              0.846154  \n",
       "158             jazz              0.846154  \n",
       "384             jazz              0.846154  \n",
       "575             rock              0.846154  \n",
       "357              rap              0.846154  \n",
       "2223             rap              0.846154  \n",
       "2244      electronic              0.846154  \n",
       "2241      electronic              0.846154  \n",
       "1150            rock              0.846154  \n",
       "197             rock              0.846154  \n",
       "2002            rock              0.846154  \n",
       "1145       classical              0.846154  \n",
       "21               rap              0.846154  \n",
       "468              rap              0.846154  \n",
       "493       electronic              0.769231  \n",
       "382       electronic              0.769231  \n",
       "314        classical              0.769231  \n",
       "1136       classical              0.769231  \n",
       "315        classical              0.769231  \n",
       "122              rap              0.769231  \n",
       "282          country              0.692308  \n",
       "67               rnb              0.692308  \n",
       "2105         country              0.615385  \n",
       "1539         country              0.615385  \n",
       "1546         country              0.615385  \n",
       "2103         country              0.615385  \n",
       "896              pop              0.615385  \n",
       "224              pop              0.615385  \n",
       "221              pop              0.615385  \n",
       "586              rnb              0.615385  \n",
       "1795             rnb              0.615385  \n",
       "281              pop              0.615385  \n",
       "2151             rnb              0.615385  \n",
       "518              pop              0.615385  \n",
       "15               rnb              0.615385  \n",
       "1710        folk pop              0.384615  \n",
       "1505        folk pop              0.307692  \n",
       "416         folk pop              0.307692  \n",
       "57          folk pop              0.307692  \n",
       "77          folk pop              0.307692  "
      ]
     },
     "execution_count": 154,
     "metadata": {},
     "output_type": "execute_result"
    }
   ],
   "source": [
    "chart_tracks_df.groupby('predicted_genre_id').head()[['artist_name','track_name','predicted_genre','predicted_genre_prob']]"
   ]
  },
  {
   "cell_type": "markdown",
   "metadata": {},
   "source": [
    "View histogram of predicted genre probabilities"
   ]
  },
  {
   "cell_type": "code",
   "execution_count": 155,
   "metadata": {
    "ExecuteTime": {
     "end_time": "2020-10-12T17:48:27.233631Z",
     "start_time": "2020-10-12T17:48:26.975774Z"
    }
   },
   "outputs": [
    {
     "data": {
      "text/plain": [
       "<matplotlib.axes._subplots.AxesSubplot at 0x274c5aa0100>"
      ]
     },
     "execution_count": 155,
     "metadata": {},
     "output_type": "execute_result"
    },
    {
     "data": {
      "image/png": "[encoded data removed]",
      "text/plain": [
       "<Figure size 432x288 with 1 Axes>"
      ]
     },
     "metadata": {
      "needs_background": "light"
     },
     "output_type": "display_data"
    }
   ],
   "source": [
    "chart_tracks_df['predicted_genre_prob'].hist()"
   ]
  },
  {
   "cell_type": "markdown",
   "metadata": {
    "ExecuteTime": {
     "end_time": "2020-10-12T17:44:50.844307Z",
     "start_time": "2020-10-12T17:44:50.836325Z"
    }
   },
   "source": [
    "Check out tally of predicted genres"
   ]
  },
  {
   "cell_type": "code",
   "execution_count": 165,
   "metadata": {
    "ExecuteTime": {
     "end_time": "2020-10-12T17:48:27.241606Z",
     "start_time": "2020-10-12T17:48:27.234626Z"
    }
   },
   "outputs": [
    {
     "data": {
      "text/plain": [
       "pop           593\n",
       "rock          503\n",
       "jazz          351\n",
       "country       323\n",
       "rap           214\n",
       "rnb           195\n",
       "electronic     80\n",
       "classical      22\n",
       "folk pop       11\n",
       "Name: predicted_genre, dtype: int64"
      ]
     },
     "execution_count": 165,
     "metadata": {},
     "output_type": "execute_result"
    }
   ],
   "source": [
    "chart_tracks_df['predicted_genre'].value_counts()"
   ]
  },
  {
   "cell_type": "code",
   "execution_count": 166,
   "metadata": {},
   "outputs": [
    {
     "data": {
      "text/html": [
       "<div>\n",
       "<style scoped>\n",
       "    .dataframe tbody tr th:only-of-type {\n",
       "        vertical-align: middle;\n",
       "    }\n",
       "\n",
       "    .dataframe tbody tr th {\n",
       "        vertical-align: top;\n",
       "    }\n",
       "\n",
       "    .dataframe thead th {\n",
       "        text-align: right;\n",
       "    }\n",
       "</style>\n",
       "<table border=\"1\" class=\"dataframe\">\n",
       "  <thead>\n",
       "    <tr style=\"text-align: right;\">\n",
       "      <th></th>\n",
       "      <th>track_id</th>\n",
       "      <th>track_name</th>\n",
       "      <th>artist_id</th>\n",
       "      <th>artist_name</th>\n",
       "      <th>album_id</th>\n",
       "      <th>duration</th>\n",
       "      <th>release_date</th>\n",
       "      <th>popularity</th>\n",
       "      <th>danceability</th>\n",
       "      <th>energy</th>\n",
       "      <th>...</th>\n",
       "      <th>predicted_genre_prob</th>\n",
       "      <th>predicted_classical_prob</th>\n",
       "      <th>predicted_country_prob</th>\n",
       "      <th>predicted_electronic_prob</th>\n",
       "      <th>predicted_folk pop_prob</th>\n",
       "      <th>predicted_jazz_prob</th>\n",
       "      <th>predicted_pop_prob</th>\n",
       "      <th>predicted_rap_prob</th>\n",
       "      <th>predicted_rnb_prob</th>\n",
       "      <th>predicted_rock_prob</th>\n",
       "    </tr>\n",
       "  </thead>\n",
       "  <tbody>\n",
       "    <tr>\n",
       "      <th>1165</th>\n",
       "      <td>2HO0uCyq8jOveEzvmo4JEu</td>\n",
       "      <td>Fly</td>\n",
       "      <td>64KEffDW9EtZ1y2vBYgq8T</td>\n",
       "      <td>Marshmello</td>\n",
       "      <td>3HuhZO6x7i7vXqjQfOEh7b</td>\n",
       "      <td>193777</td>\n",
       "      <td>2018-03-09</td>\n",
       "      <td>64</td>\n",
       "      <td>0.630</td>\n",
       "      <td>0.900</td>\n",
       "      <td>...</td>\n",
       "      <td>1.000000</td>\n",
       "      <td>0.0</td>\n",
       "      <td>0.000000</td>\n",
       "      <td>1.000000</td>\n",
       "      <td>0.000000</td>\n",
       "      <td>0.000000</td>\n",
       "      <td>0.000000</td>\n",
       "      <td>0.000000</td>\n",
       "      <td>0.000000</td>\n",
       "      <td>0.000000</td>\n",
       "    </tr>\n",
       "    <tr>\n",
       "      <th>1697</th>\n",
       "      <td>2mlGPkAx4kwF8Df0GlScsC</td>\n",
       "      <td>Buttercup</td>\n",
       "      <td>1vVHevk2PD45epYnDi9CCc</td>\n",
       "      <td>Jack Stauber</td>\n",
       "      <td>1RHa1VdX6lsLbeedgsV1cb</td>\n",
       "      <td>208026</td>\n",
       "      <td>2017-03-25</td>\n",
       "      <td>80</td>\n",
       "      <td>0.705</td>\n",
       "      <td>0.373</td>\n",
       "      <td>...</td>\n",
       "      <td>1.000000</td>\n",
       "      <td>0.0</td>\n",
       "      <td>0.000000</td>\n",
       "      <td>0.000000</td>\n",
       "      <td>0.000000</td>\n",
       "      <td>1.000000</td>\n",
       "      <td>0.000000</td>\n",
       "      <td>0.000000</td>\n",
       "      <td>0.000000</td>\n",
       "      <td>0.000000</td>\n",
       "    </tr>\n",
       "    <tr>\n",
       "      <th>2119</th>\n",
       "      <td>61lfBHo44YaBIhAx1031CP</td>\n",
       "      <td>dear P</td>\n",
       "      <td>0Vw76uk7P8yVtTClWyOhac</td>\n",
       "      <td>HONNE</td>\n",
       "      <td>3DG5MS8iKYcJROCnb1DYDf</td>\n",
       "      <td>61426</td>\n",
       "      <td>2020-07-03</td>\n",
       "      <td>51</td>\n",
       "      <td>0.304</td>\n",
       "      <td>0.154</td>\n",
       "      <td>...</td>\n",
       "      <td>1.000000</td>\n",
       "      <td>1.0</td>\n",
       "      <td>0.000000</td>\n",
       "      <td>0.000000</td>\n",
       "      <td>0.000000</td>\n",
       "      <td>0.000000</td>\n",
       "      <td>0.000000</td>\n",
       "      <td>0.000000</td>\n",
       "      <td>0.000000</td>\n",
       "      <td>0.000000</td>\n",
       "    </tr>\n",
       "    <tr>\n",
       "      <th>141</th>\n",
       "      <td>4VuS959DSpr82t3qBqCrWG</td>\n",
       "      <td>Supermarket Flowers</td>\n",
       "      <td>6eUKZXaKkcviH0Ku9w2n3V</td>\n",
       "      <td>Ed Sheeran</td>\n",
       "      <td>3T4tUhGYeRNVUGevb0wThu</td>\n",
       "      <td>221106</td>\n",
       "      <td>2017-03-03</td>\n",
       "      <td>77</td>\n",
       "      <td>0.589</td>\n",
       "      <td>0.242</td>\n",
       "      <td>...</td>\n",
       "      <td>0.923077</td>\n",
       "      <td>0.0</td>\n",
       "      <td>0.000000</td>\n",
       "      <td>0.000000</td>\n",
       "      <td>0.076923</td>\n",
       "      <td>0.923077</td>\n",
       "      <td>0.000000</td>\n",
       "      <td>0.000000</td>\n",
       "      <td>0.000000</td>\n",
       "      <td>0.000000</td>\n",
       "    </tr>\n",
       "    <tr>\n",
       "      <th>1098</th>\n",
       "      <td>3PIDciSFdrQxSQSihim3hN</td>\n",
       "      <td>Christmas (Baby Please Come Home)</td>\n",
       "      <td>4iHNK0tOyZPYnBU7nGAgpQ</td>\n",
       "      <td>Mariah Carey</td>\n",
       "      <td>61ulfFSmmxMhc2wCdmdMkN</td>\n",
       "      <td>153240</td>\n",
       "      <td>1994-11-01</td>\n",
       "      <td>61</td>\n",
       "      <td>0.566</td>\n",
       "      <td>0.782</td>\n",
       "      <td>...</td>\n",
       "      <td>0.923077</td>\n",
       "      <td>0.0</td>\n",
       "      <td>0.076923</td>\n",
       "      <td>0.000000</td>\n",
       "      <td>0.000000</td>\n",
       "      <td>0.000000</td>\n",
       "      <td>0.000000</td>\n",
       "      <td>0.000000</td>\n",
       "      <td>0.000000</td>\n",
       "      <td>0.923077</td>\n",
       "    </tr>\n",
       "    <tr>\n",
       "      <th>...</th>\n",
       "      <td>...</td>\n",
       "      <td>...</td>\n",
       "      <td>...</td>\n",
       "      <td>...</td>\n",
       "      <td>...</td>\n",
       "      <td>...</td>\n",
       "      <td>...</td>\n",
       "      <td>...</td>\n",
       "      <td>...</td>\n",
       "      <td>...</td>\n",
       "      <td>...</td>\n",
       "      <td>...</td>\n",
       "      <td>...</td>\n",
       "      <td>...</td>\n",
       "      <td>...</td>\n",
       "      <td>...</td>\n",
       "      <td>...</td>\n",
       "      <td>...</td>\n",
       "      <td>...</td>\n",
       "      <td>...</td>\n",
       "      <td>...</td>\n",
       "    </tr>\n",
       "    <tr>\n",
       "      <th>1020</th>\n",
       "      <td>2wVDWtLKXunswWecARNILj</td>\n",
       "      <td>SOLO</td>\n",
       "      <td>250b0Wlc5Vk0CoUsaCY84M</td>\n",
       "      <td>JENNIE</td>\n",
       "      <td>7qAJpYeABXN9ZV5wOOX59k</td>\n",
       "      <td>169566</td>\n",
       "      <td>2018-11-12</td>\n",
       "      <td>73</td>\n",
       "      <td>0.751</td>\n",
       "      <td>0.642</td>\n",
       "      <td>...</td>\n",
       "      <td>0.230769</td>\n",
       "      <td>0.0</td>\n",
       "      <td>0.230769</td>\n",
       "      <td>0.076923</td>\n",
       "      <td>0.000000</td>\n",
       "      <td>0.000000</td>\n",
       "      <td>0.076923</td>\n",
       "      <td>0.230769</td>\n",
       "      <td>0.230769</td>\n",
       "      <td>0.153846</td>\n",
       "    </tr>\n",
       "    <tr>\n",
       "      <th>605</th>\n",
       "      <td>6Bg7MznA9X0dIhlAsLyBYj</td>\n",
       "      <td>Ghost Town</td>\n",
       "      <td>5K4W6rqBFWDnAN6FQUkS6x</td>\n",
       "      <td>Kanye West</td>\n",
       "      <td>5EBGCvO6upi3GNknMVe9x9</td>\n",
       "      <td>271386</td>\n",
       "      <td>2018-06-01</td>\n",
       "      <td>1</td>\n",
       "      <td>0.572</td>\n",
       "      <td>0.543</td>\n",
       "      <td>...</td>\n",
       "      <td>0.230769</td>\n",
       "      <td>0.0</td>\n",
       "      <td>0.230769</td>\n",
       "      <td>0.000000</td>\n",
       "      <td>0.000000</td>\n",
       "      <td>0.153846</td>\n",
       "      <td>0.230769</td>\n",
       "      <td>0.076923</td>\n",
       "      <td>0.076923</td>\n",
       "      <td>0.230769</td>\n",
       "    </tr>\n",
       "    <tr>\n",
       "      <th>2152</th>\n",
       "      <td>1Z0sOoWABNbbiadSEea2z9</td>\n",
       "      <td>I</td>\n",
       "      <td>5GoU6Zkbt3w10nTYq6vBQh</td>\n",
       "      <td>Twenty Nine Eleven</td>\n",
       "      <td>5adFklVMUam3oGM6vULmuo</td>\n",
       "      <td>204816</td>\n",
       "      <td>2020-06-19</td>\n",
       "      <td>60</td>\n",
       "      <td>0.522</td>\n",
       "      <td>0.327</td>\n",
       "      <td>...</td>\n",
       "      <td>0.230769</td>\n",
       "      <td>0.0</td>\n",
       "      <td>0.153846</td>\n",
       "      <td>0.000000</td>\n",
       "      <td>0.076923</td>\n",
       "      <td>0.230769</td>\n",
       "      <td>0.230769</td>\n",
       "      <td>0.000000</td>\n",
       "      <td>0.076923</td>\n",
       "      <td>0.230769</td>\n",
       "    </tr>\n",
       "    <tr>\n",
       "      <th>964</th>\n",
       "      <td>2rbDhOo9Fh61Bbu23T2qCk</td>\n",
       "      <td>Always Remember Us This Way</td>\n",
       "      <td>1HY2Jd0NmPuamShAr6KMms</td>\n",
       "      <td>Lady Gaga</td>\n",
       "      <td>3edjzMAVB9RYRd4UcZBchx</td>\n",
       "      <td>210200</td>\n",
       "      <td>2018-10-05</td>\n",
       "      <td>78</td>\n",
       "      <td>0.553</td>\n",
       "      <td>0.502</td>\n",
       "      <td>...</td>\n",
       "      <td>0.230769</td>\n",
       "      <td>0.0</td>\n",
       "      <td>0.153846</td>\n",
       "      <td>0.000000</td>\n",
       "      <td>0.000000</td>\n",
       "      <td>0.153846</td>\n",
       "      <td>0.230769</td>\n",
       "      <td>0.076923</td>\n",
       "      <td>0.230769</td>\n",
       "      <td>0.153846</td>\n",
       "    </tr>\n",
       "    <tr>\n",
       "      <th>485</th>\n",
       "      <td>4Pbg79cTBu4vgSphoyNq3j</td>\n",
       "      <td>2002</td>\n",
       "      <td>1zNqDE7qDGCsyzJwohVaoX</td>\n",
       "      <td>Anne-Marie</td>\n",
       "      <td>6oSxSPOg7Kuitjt2zwP7sU</td>\n",
       "      <td>186986</td>\n",
       "      <td>2018-04-19</td>\n",
       "      <td>72</td>\n",
       "      <td>0.697</td>\n",
       "      <td>0.683</td>\n",
       "      <td>...</td>\n",
       "      <td>0.230769</td>\n",
       "      <td>0.0</td>\n",
       "      <td>0.153846</td>\n",
       "      <td>0.000000</td>\n",
       "      <td>0.000000</td>\n",
       "      <td>0.000000</td>\n",
       "      <td>0.230769</td>\n",
       "      <td>0.230769</td>\n",
       "      <td>0.153846</td>\n",
       "      <td>0.230769</td>\n",
       "    </tr>\n",
       "  </tbody>\n",
       "</table>\n",
       "<p>2292 rows × 31 columns</p>\n",
       "</div>"
      ],
      "text/plain": [
       "                    track_id                         track_name  \\\n",
       "1165  2HO0uCyq8jOveEzvmo4JEu                                Fly   \n",
       "1697  2mlGPkAx4kwF8Df0GlScsC                          Buttercup   \n",
       "2119  61lfBHo44YaBIhAx1031CP                             dear P   \n",
       "141   4VuS959DSpr82t3qBqCrWG                Supermarket Flowers   \n",
       "1098  3PIDciSFdrQxSQSihim3hN  Christmas (Baby Please Come Home)   \n",
       "...                      ...                                ...   \n",
       "1020  2wVDWtLKXunswWecARNILj                               SOLO   \n",
       "605   6Bg7MznA9X0dIhlAsLyBYj                         Ghost Town   \n",
       "2152  1Z0sOoWABNbbiadSEea2z9                                  I   \n",
       "964   2rbDhOo9Fh61Bbu23T2qCk        Always Remember Us This Way   \n",
       "485   4Pbg79cTBu4vgSphoyNq3j                               2002   \n",
       "\n",
       "                   artist_id         artist_name                album_id  \\\n",
       "1165  64KEffDW9EtZ1y2vBYgq8T          Marshmello  3HuhZO6x7i7vXqjQfOEh7b   \n",
       "1697  1vVHevk2PD45epYnDi9CCc        Jack Stauber  1RHa1VdX6lsLbeedgsV1cb   \n",
       "2119  0Vw76uk7P8yVtTClWyOhac               HONNE  3DG5MS8iKYcJROCnb1DYDf   \n",
       "141   6eUKZXaKkcviH0Ku9w2n3V          Ed Sheeran  3T4tUhGYeRNVUGevb0wThu   \n",
       "1098  4iHNK0tOyZPYnBU7nGAgpQ        Mariah Carey  61ulfFSmmxMhc2wCdmdMkN   \n",
       "...                      ...                 ...                     ...   \n",
       "1020  250b0Wlc5Vk0CoUsaCY84M              JENNIE  7qAJpYeABXN9ZV5wOOX59k   \n",
       "605   5K4W6rqBFWDnAN6FQUkS6x          Kanye West  5EBGCvO6upi3GNknMVe9x9   \n",
       "2152  5GoU6Zkbt3w10nTYq6vBQh  Twenty Nine Eleven  5adFklVMUam3oGM6vULmuo   \n",
       "964   1HY2Jd0NmPuamShAr6KMms           Lady Gaga  3edjzMAVB9RYRd4UcZBchx   \n",
       "485   1zNqDE7qDGCsyzJwohVaoX          Anne-Marie  6oSxSPOg7Kuitjt2zwP7sU   \n",
       "\n",
       "      duration release_date  popularity  danceability  energy  ...  \\\n",
       "1165    193777   2018-03-09          64         0.630   0.900  ...   \n",
       "1697    208026   2017-03-25          80         0.705   0.373  ...   \n",
       "2119     61426   2020-07-03          51         0.304   0.154  ...   \n",
       "141     221106   2017-03-03          77         0.589   0.242  ...   \n",
       "1098    153240   1994-11-01          61         0.566   0.782  ...   \n",
       "...        ...          ...         ...           ...     ...  ...   \n",
       "1020    169566   2018-11-12          73         0.751   0.642  ...   \n",
       "605     271386   2018-06-01           1         0.572   0.543  ...   \n",
       "2152    204816   2020-06-19          60         0.522   0.327  ...   \n",
       "964     210200   2018-10-05          78         0.553   0.502  ...   \n",
       "485     186986   2018-04-19          72         0.697   0.683  ...   \n",
       "\n",
       "      predicted_genre_prob  predicted_classical_prob  predicted_country_prob  \\\n",
       "1165              1.000000                       0.0                0.000000   \n",
       "1697              1.000000                       0.0                0.000000   \n",
       "2119              1.000000                       1.0                0.000000   \n",
       "141               0.923077                       0.0                0.000000   \n",
       "1098              0.923077                       0.0                0.076923   \n",
       "...                    ...                       ...                     ...   \n",
       "1020              0.230769                       0.0                0.230769   \n",
       "605               0.230769                       0.0                0.230769   \n",
       "2152              0.230769                       0.0                0.153846   \n",
       "964               0.230769                       0.0                0.153846   \n",
       "485               0.230769                       0.0                0.153846   \n",
       "\n",
       "      predicted_electronic_prob  predicted_folk pop_prob  predicted_jazz_prob  \\\n",
       "1165                   1.000000                 0.000000             0.000000   \n",
       "1697                   0.000000                 0.000000             1.000000   \n",
       "2119                   0.000000                 0.000000             0.000000   \n",
       "141                    0.000000                 0.076923             0.923077   \n",
       "1098                   0.000000                 0.000000             0.000000   \n",
       "...                         ...                      ...                  ...   \n",
       "1020                   0.076923                 0.000000             0.000000   \n",
       "605                    0.000000                 0.000000             0.153846   \n",
       "2152                   0.000000                 0.076923             0.230769   \n",
       "964                    0.000000                 0.000000             0.153846   \n",
       "485                    0.000000                 0.000000             0.000000   \n",
       "\n",
       "      predicted_pop_prob  predicted_rap_prob  predicted_rnb_prob  \\\n",
       "1165            0.000000            0.000000            0.000000   \n",
       "1697            0.000000            0.000000            0.000000   \n",
       "2119            0.000000            0.000000            0.000000   \n",
       "141             0.000000            0.000000            0.000000   \n",
       "1098            0.000000            0.000000            0.000000   \n",
       "...                  ...                 ...                 ...   \n",
       "1020            0.076923            0.230769            0.230769   \n",
       "605             0.230769            0.076923            0.076923   \n",
       "2152            0.230769            0.000000            0.076923   \n",
       "964             0.230769            0.076923            0.230769   \n",
       "485             0.230769            0.230769            0.153846   \n",
       "\n",
       "      predicted_rock_prob  \n",
       "1165             0.000000  \n",
       "1697             0.000000  \n",
       "2119             0.000000  \n",
       "141              0.000000  \n",
       "1098             0.923077  \n",
       "...                   ...  \n",
       "1020             0.153846  \n",
       "605              0.230769  \n",
       "2152             0.230769  \n",
       "964              0.153846  \n",
       "485              0.230769  \n",
       "\n",
       "[2292 rows x 31 columns]"
      ]
     },
     "execution_count": 166,
     "metadata": {},
     "output_type": "execute_result"
    }
   ],
   "source": [
    "chart_tracks_df"
   ]
  },
  {
   "cell_type": "markdown",
   "metadata": {},
   "source": [
    ">Q **Spot Check**: Check out a song you're familiar with and see if the predicted genres and probabilities makes sense"
   ]
  },
  {
   "cell_type": "code",
   "execution_count": 167,
   "metadata": {
    "ExecuteTime": {
     "end_time": "2020-10-12T17:48:27.271526Z",
     "start_time": "2020-10-12T17:48:27.242605Z"
    }
   },
   "outputs": [
    {
     "data": {
      "text/html": [
       "<div>\n",
       "<style scoped>\n",
       "    .dataframe tbody tr th:only-of-type {\n",
       "        vertical-align: middle;\n",
       "    }\n",
       "\n",
       "    .dataframe tbody tr th {\n",
       "        vertical-align: top;\n",
       "    }\n",
       "\n",
       "    .dataframe thead th {\n",
       "        text-align: right;\n",
       "    }\n",
       "</style>\n",
       "<table border=\"1\" class=\"dataframe\">\n",
       "  <thead>\n",
       "    <tr style=\"text-align: right;\">\n",
       "      <th></th>\n",
       "      <th>track_id</th>\n",
       "      <th>track_name</th>\n",
       "      <th>artist_id</th>\n",
       "      <th>artist_name</th>\n",
       "      <th>album_id</th>\n",
       "      <th>duration</th>\n",
       "      <th>release_date</th>\n",
       "      <th>popularity</th>\n",
       "      <th>danceability</th>\n",
       "      <th>energy</th>\n",
       "      <th>...</th>\n",
       "      <th>predicted_genre_prob</th>\n",
       "      <th>predicted_classical_prob</th>\n",
       "      <th>predicted_country_prob</th>\n",
       "      <th>predicted_electronic_prob</th>\n",
       "      <th>predicted_folk pop_prob</th>\n",
       "      <th>predicted_jazz_prob</th>\n",
       "      <th>predicted_pop_prob</th>\n",
       "      <th>predicted_rap_prob</th>\n",
       "      <th>predicted_rnb_prob</th>\n",
       "      <th>predicted_rock_prob</th>\n",
       "    </tr>\n",
       "  </thead>\n",
       "  <tbody>\n",
       "    <tr>\n",
       "      <th>941</th>\n",
       "      <td>74iZuPGwyL33VlTr6jTnab</td>\n",
       "      <td>Always Remember Us This Way</td>\n",
       "      <td>1HY2Jd0NmPuamShAr6KMms</td>\n",
       "      <td>Lady Gaga</td>\n",
       "      <td>4sLtOBOzn4s3GDUv3c5oJD</td>\n",
       "      <td>210200</td>\n",
       "      <td>2018-10-05</td>\n",
       "      <td>74</td>\n",
       "      <td>0.553</td>\n",
       "      <td>0.502</td>\n",
       "      <td>...</td>\n",
       "      <td>0.230769</td>\n",
       "      <td>0.0</td>\n",
       "      <td>0.153846</td>\n",
       "      <td>0.0</td>\n",
       "      <td>0.0</td>\n",
       "      <td>0.153846</td>\n",
       "      <td>0.230769</td>\n",
       "      <td>0.076923</td>\n",
       "      <td>0.230769</td>\n",
       "      <td>0.153846</td>\n",
       "    </tr>\n",
       "    <tr>\n",
       "      <th>964</th>\n",
       "      <td>2rbDhOo9Fh61Bbu23T2qCk</td>\n",
       "      <td>Always Remember Us This Way</td>\n",
       "      <td>1HY2Jd0NmPuamShAr6KMms</td>\n",
       "      <td>Lady Gaga</td>\n",
       "      <td>3edjzMAVB9RYRd4UcZBchx</td>\n",
       "      <td>210200</td>\n",
       "      <td>2018-10-05</td>\n",
       "      <td>78</td>\n",
       "      <td>0.553</td>\n",
       "      <td>0.502</td>\n",
       "      <td>...</td>\n",
       "      <td>0.230769</td>\n",
       "      <td>0.0</td>\n",
       "      <td>0.153846</td>\n",
       "      <td>0.0</td>\n",
       "      <td>0.0</td>\n",
       "      <td>0.153846</td>\n",
       "      <td>0.230769</td>\n",
       "      <td>0.076923</td>\n",
       "      <td>0.230769</td>\n",
       "      <td>0.153846</td>\n",
       "    </tr>\n",
       "  </tbody>\n",
       "</table>\n",
       "<p>2 rows × 31 columns</p>\n",
       "</div>"
      ],
      "text/plain": [
       "                   track_id                   track_name  \\\n",
       "941  74iZuPGwyL33VlTr6jTnab  Always Remember Us This Way   \n",
       "964  2rbDhOo9Fh61Bbu23T2qCk  Always Remember Us This Way   \n",
       "\n",
       "                  artist_id artist_name                album_id  duration  \\\n",
       "941  1HY2Jd0NmPuamShAr6KMms   Lady Gaga  4sLtOBOzn4s3GDUv3c5oJD    210200   \n",
       "964  1HY2Jd0NmPuamShAr6KMms   Lady Gaga  3edjzMAVB9RYRd4UcZBchx    210200   \n",
       "\n",
       "    release_date  popularity  danceability  energy  ...  predicted_genre_prob  \\\n",
       "941   2018-10-05          74         0.553   0.502  ...              0.230769   \n",
       "964   2018-10-05          78         0.553   0.502  ...              0.230769   \n",
       "\n",
       "     predicted_classical_prob  predicted_country_prob  \\\n",
       "941                       0.0                0.153846   \n",
       "964                       0.0                0.153846   \n",
       "\n",
       "     predicted_electronic_prob  predicted_folk pop_prob  predicted_jazz_prob  \\\n",
       "941                        0.0                      0.0             0.153846   \n",
       "964                        0.0                      0.0             0.153846   \n",
       "\n",
       "     predicted_pop_prob  predicted_rap_prob  predicted_rnb_prob  \\\n",
       "941            0.230769            0.076923            0.230769   \n",
       "964            0.230769            0.076923            0.230769   \n",
       "\n",
       "     predicted_rock_prob  \n",
       "941             0.153846  \n",
       "964             0.153846  \n",
       "\n",
       "[2 rows x 31 columns]"
      ]
     },
     "execution_count": 167,
     "metadata": {},
     "output_type": "execute_result"
    }
   ],
   "source": [
    "chart_tracks_df[chart_tracks_df['track_name']=='Always Remember Us This Way']"
   ]
  },
  {
   "cell_type": "code",
   "execution_count": 158,
   "metadata": {
    "ExecuteTime": {
     "end_time": "2020-10-12T17:48:27.341376Z",
     "start_time": "2020-10-12T17:48:27.272524Z"
    }
   },
   "outputs": [],
   "source": [
    "#save data\n",
    "chart_tracks_df.to_csv(\"data/spotify_daily_charts_tracks_predicted_genres.csv\", index=False, encoding='utf-8')"
   ]
  },
  {
   "cell_type": "markdown",
   "metadata": {},
   "source": [
    "## Caveats\n",
    "1. Using playlist names as genre tags heavily rely on *user opinion* and not *extracted music features* (compare this from the methods used in the [GTZAN genre collection dataset](https://data-flair.training/blogs/python-project-music-genre-classification/)\n",
    "2. Playlists with dual genre names exists, and appear quite often in the dataset (e.g. Electronic Pop, Classical Rock)\n",
    "3. Although a dominant genre could be readily observed, recent music tend to incorporate many genres at a time and thus create less distinction when the model looks at the audio features.\n",
    "\n",
    ">Q: What other caveats could you deduce from the steps done above?\n"
   ]
  },
  {
   "cell_type": "markdown",
   "metadata": {},
   "source": [
    "## Model Improvement\n",
    "To enhance the model accuracy, try to do the following:\n",
    "1. Pick \"purer\" top-followed playlists for the training data. A quick way to do this is to pick playlists that contain pre 2000's music as majority as these are less hybridized than more recent songs.\n",
    "2. Try fewer but broader genres as categories (4-5 genres)\n",
    "3. Remove outlier songs! These are the songs that dont fit its playlist's description. A bit subjective (and tedious!).\n",
    "4. Limit the features used as predictors (could be inferred from the list of genres you're considering)\n"
   ]
  },
  {
   "cell_type": "markdown",
   "metadata": {},
   "source": [
    "## Day Deliverable\n",
    "*A. For your individual curiosities*\n",
    "1. Choose your own set of genres to be used as prediction values of the KNN model. You may select among the ones listed above or a completely new one (but you must already have the scraped playlist and tracks data for this new genre) \n",
    "\n",
    "2. Choose the features you want to use for the classification. Start by using all and then narrow down by removing one feature at a time and checking if the accuracy increases.\n",
    "\n",
    "3. Check if the model works by using it to predict genres of the spotify_daily_charts_tracks dataset. Do some spot checks and view the songs classified with the highest probabilities per genre\n",
    "\n",
    "\n",
    "*B. For your sprint project*\n",
    "4. Extract a tracks dataset that is relevant to the client you are targeting. \n",
    "   For example:\n",
    "    - A client artist's full discography\n",
    "    - Tracks from a popular playlist in spotify that your client artist appears in\n",
    "    - Discographies of prospect artists to collaborate with \n",
    "    - Popular tracks of the genre that your client artist is targeting to enter\n",
    "    \n",
    "    \n",
    "5. Using the model you tuned in (A), predict the genres of the tracks in (B.4). \n",
    "\n",
    "6. Do some spot checks and view the songs classified with the highest probabilities per genre. \n",
    "   What does the predicted classifications reveal about your tracks dataset?\n",
    "   \n",
    "\n"
   ]
  },
  {
   "cell_type": "code",
   "execution_count": null,
   "metadata": {},
   "outputs": [],
   "source": []
  },
  {
   "cell_type": "code",
   "execution_count": null,
   "metadata": {},
   "outputs": [],
   "source": []
  },
  {
   "cell_type": "code",
   "execution_count": null,
   "metadata": {},
   "outputs": [],
   "source": []
  },
  {
   "cell_type": "code",
   "execution_count": null,
   "metadata": {},
   "outputs": [],
   "source": []
  },
  {
   "cell_type": "code",
   "execution_count": null,
   "metadata": {},
   "outputs": [],
   "source": []
  }
 ],
 "metadata": {
  "kernelspec": {
   "display_name": "Python 3",
   "language": "python",
   "name": "python3"
  },
  "language_info": {
   "codemirror_mode": {
    "name": "ipython",
    "version": 3
   },
   "file_extension": ".py",
   "mimetype": "text/x-python",
   "name": "python",
   "nbconvert_exporter": "python",
   "pygments_lexer": "ipython3",
   "version": "3.8.3"
  }
 },
 "nbformat": 4,
 "nbformat_minor": 4
}
