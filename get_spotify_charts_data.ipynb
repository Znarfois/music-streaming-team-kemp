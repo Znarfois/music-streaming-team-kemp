{
 "cells": [
  {
   "cell_type": "code",
   "execution_count": 1,
   "metadata": {
    "ExecuteTime": {
     "end_time": "2020-09-22T18:01:57.883248Z",
     "start_time": "2020-09-22T18:01:32.286873Z"
    }
   },
   "outputs": [],
   "source": [
    "import os\n",
    "\n",
    "import numpy as np\n",
    "import pandas as pd\n"
   ]
  },
  {
   "cell_type": "code",
   "execution_count": 7,
   "metadata": {
    "ExecuteTime": {
     "end_time": "2020-09-22T18:03:58.002361Z",
     "start_time": "2020-09-22T18:01:57.883248Z"
    },
    "scrolled": true
   },
   "outputs": [
    {
     "name": "stdin",
     "output_type": "stream",
     "text": [
      "Enter start date in YYYY-mm-dd format: 2020-09-04\n"
     ]
    },
    {
     "name": "stdout",
     "output_type": "stream",
     "text": [
      "\tStart scraping from: 2020-09-04\n"
     ]
    },
    {
     "name": "stdin",
     "output_type": "stream",
     "text": [
      "Enter end date in YYYY-mm-dd format: 2020-10-04\n"
     ]
    },
    {
     "name": "stdout",
     "output_type": "stream",
     "text": [
      "\tEnd scraping at: 2020-10-04\n"
     ]
    },
    {
     "name": "stdin",
     "output_type": "stream",
     "text": [
      "Enter desired region: ph\n"
     ]
    },
    {
     "name": "stdout",
     "output_type": "stream",
     "text": [
      "\tRegion: ph\n"
     ]
    },
    {
     "name": "stdin",
     "output_type": "stream",
     "text": [
      "Enter output directory: scraped-spotify-data\n"
     ]
    },
    {
     "name": "stdout",
     "output_type": "stream",
     "text": [
      "\tOutput directory: scraped-spotify-data\n",
      "Spotify chart scraper configured! \n"
     ]
    },
    {
     "name": "stderr",
     "output_type": "stream",
     "text": [
      "\n",
      "Collecting chart data from ph: 0it [00:00, ?it/s]"
     ]
    },
    {
     "name": "stdout",
     "output_type": "stream",
     "text": [
      "\n",
      "Date: 2020-09-04\n",
      "https://spotifycharts.com/regional/ph/daily/2020-09-04/download\n"
     ]
    },
    {
     "name": "stderr",
     "output_type": "stream",
     "text": [
      "\n",
      "Collecting chart data from ph: 1it [00:01,  1.38s/it]"
     ]
    },
    {
     "name": "stdout",
     "output_type": "stream",
     "text": [
      "\n",
      "Date: 2020-09-05\n",
      "https://spotifycharts.com/regional/ph/daily/2020-09-05/download\n"
     ]
    },
    {
     "name": "stderr",
     "output_type": "stream",
     "text": [
      "\n",
      "Collecting chart data from ph: 2it [00:02,  1.34s/it]"
     ]
    },
    {
     "name": "stdout",
     "output_type": "stream",
     "text": [
      "\n",
      "Date: 2020-09-06\n",
      "https://spotifycharts.com/regional/ph/daily/2020-09-06/download\n"
     ]
    },
    {
     "name": "stderr",
     "output_type": "stream",
     "text": [
      "\n",
      "Collecting chart data from ph: 3it [00:03,  1.30s/it]"
     ]
    },
    {
     "name": "stdout",
     "output_type": "stream",
     "text": [
      "\n",
      "Date: 2020-09-07\n",
      "https://spotifycharts.com/regional/ph/daily/2020-09-07/download\n"
     ]
    },
    {
     "name": "stderr",
     "output_type": "stream",
     "text": [
      "\n",
      "Collecting chart data from ph: 4it [00:04,  1.24s/it]"
     ]
    },
    {
     "name": "stdout",
     "output_type": "stream",
     "text": [
      "\n",
      "Date: 2020-09-08\n",
      "https://spotifycharts.com/regional/ph/daily/2020-09-08/download\n"
     ]
    },
    {
     "name": "stderr",
     "output_type": "stream",
     "text": [
      "\n",
      "Collecting chart data from ph: 5it [00:05,  1.19s/it]"
     ]
    },
    {
     "name": "stdout",
     "output_type": "stream",
     "text": [
      "\n",
      "Date: 2020-09-09\n",
      "https://spotifycharts.com/regional/ph/daily/2020-09-09/download\n"
     ]
    },
    {
     "name": "stderr",
     "output_type": "stream",
     "text": [
      "\n",
      "Collecting chart data from ph: 6it [00:07,  1.14s/it]"
     ]
    },
    {
     "name": "stdout",
     "output_type": "stream",
     "text": [
      "\n",
      "Date: 2020-09-10\n",
      "https://spotifycharts.com/regional/ph/daily/2020-09-10/download\n"
     ]
    },
    {
     "name": "stderr",
     "output_type": "stream",
     "text": [
      "\n",
      "Collecting chart data from ph: 7it [00:07,  1.02s/it]"
     ]
    },
    {
     "name": "stdout",
     "output_type": "stream",
     "text": [
      "\n",
      "Date: 2020-09-11\n",
      "https://spotifycharts.com/regional/ph/daily/2020-09-11/download\n"
     ]
    },
    {
     "name": "stderr",
     "output_type": "stream",
     "text": [
      "\n",
      "Collecting chart data from ph: 8it [00:08,  1.04s/it]"
     ]
    },
    {
     "name": "stdout",
     "output_type": "stream",
     "text": [
      "\n",
      "Date: 2020-09-12\n",
      "https://spotifycharts.com/regional/ph/daily/2020-09-12/download\n"
     ]
    },
    {
     "name": "stderr",
     "output_type": "stream",
     "text": [
      "\n",
      "Collecting chart data from ph: 9it [00:09,  1.05s/it]"
     ]
    },
    {
     "name": "stdout",
     "output_type": "stream",
     "text": [
      "\n",
      "Date: 2020-09-13\n",
      "https://spotifycharts.com/regional/ph/daily/2020-09-13/download\n"
     ]
    },
    {
     "name": "stderr",
     "output_type": "stream",
     "text": [
      "\n",
      "Collecting chart data from ph: 10it [00:10,  1.04s/it]"
     ]
    },
    {
     "name": "stdout",
     "output_type": "stream",
     "text": [
      "\n",
      "Date: 2020-09-14\n",
      "https://spotifycharts.com/regional/ph/daily/2020-09-14/download\n"
     ]
    },
    {
     "name": "stderr",
     "output_type": "stream",
     "text": [
      "\n",
      "Collecting chart data from ph: 11it [00:11,  1.04s/it]"
     ]
    },
    {
     "name": "stdout",
     "output_type": "stream",
     "text": [
      "\n",
      "Date: 2020-09-15\n",
      "https://spotifycharts.com/regional/ph/daily/2020-09-15/download\n"
     ]
    },
    {
     "name": "stderr",
     "output_type": "stream",
     "text": [
      "\n",
      "Collecting chart data from ph: 12it [00:13,  1.05s/it]"
     ]
    },
    {
     "name": "stdout",
     "output_type": "stream",
     "text": [
      "\n",
      "Date: 2020-09-16\n",
      "https://spotifycharts.com/regional/ph/daily/2020-09-16/download\n"
     ]
    },
    {
     "name": "stderr",
     "output_type": "stream",
     "text": [
      "\n",
      "Collecting chart data from ph: 13it [00:14,  1.07s/it]"
     ]
    },
    {
     "name": "stdout",
     "output_type": "stream",
     "text": [
      "\n",
      "Date: 2020-09-17\n",
      "https://spotifycharts.com/regional/ph/daily/2020-09-17/download\n"
     ]
    },
    {
     "name": "stderr",
     "output_type": "stream",
     "text": [
      "\n",
      "Collecting chart data from ph: 14it [00:14,  1.03it/s]"
     ]
    },
    {
     "name": "stdout",
     "output_type": "stream",
     "text": [
      "\n",
      "Date: 2020-09-18\n",
      "https://spotifycharts.com/regional/ph/daily/2020-09-18/download\n"
     ]
    },
    {
     "name": "stderr",
     "output_type": "stream",
     "text": [
      "\n",
      "Collecting chart data from ph: 15it [00:15,  1.00it/s]"
     ]
    },
    {
     "name": "stdout",
     "output_type": "stream",
     "text": [
      "\n",
      "Date: 2020-09-19\n",
      "https://spotifycharts.com/regional/ph/daily/2020-09-19/download\n"
     ]
    },
    {
     "name": "stderr",
     "output_type": "stream",
     "text": [
      "\n",
      "Collecting chart data from ph: 16it [00:17,  1.04s/it]"
     ]
    },
    {
     "name": "stdout",
     "output_type": "stream",
     "text": [
      "\n",
      "Date: 2020-09-20\n",
      "https://spotifycharts.com/regional/ph/daily/2020-09-20/download\n"
     ]
    },
    {
     "name": "stderr",
     "output_type": "stream",
     "text": [
      "\n",
      "Collecting chart data from ph: 17it [00:18,  1.04s/it]"
     ]
    },
    {
     "name": "stdout",
     "output_type": "stream",
     "text": [
      "\n",
      "Date: 2020-09-21\n",
      "https://spotifycharts.com/regional/ph/daily/2020-09-21/download\n"
     ]
    },
    {
     "name": "stderr",
     "output_type": "stream",
     "text": [
      "\n",
      "Collecting chart data from ph: 18it [00:19,  1.06s/it]"
     ]
    },
    {
     "name": "stdout",
     "output_type": "stream",
     "text": [
      "\n",
      "Date: 2020-09-22\n",
      "https://spotifycharts.com/regional/ph/daily/2020-09-22/download\n"
     ]
    },
    {
     "name": "stderr",
     "output_type": "stream",
     "text": [
      "\n",
      "Collecting chart data from ph: 19it [00:20,  1.06s/it]"
     ]
    },
    {
     "name": "stdout",
     "output_type": "stream",
     "text": [
      "\n",
      "Date: 2020-09-23\n",
      "https://spotifycharts.com/regional/ph/daily/2020-09-23/download\n"
     ]
    },
    {
     "name": "stderr",
     "output_type": "stream",
     "text": [
      "\n",
      "Collecting chart data from ph: 20it [00:21,  1.04it/s]"
     ]
    },
    {
     "name": "stdout",
     "output_type": "stream",
     "text": [
      "\n",
      "Date: 2020-09-24\n",
      "https://spotifycharts.com/regional/ph/daily/2020-09-24/download\n"
     ]
    },
    {
     "name": "stderr",
     "output_type": "stream",
     "text": [
      "\n",
      "Collecting chart data from ph: 21it [00:22,  1.01s/it]"
     ]
    },
    {
     "name": "stdout",
     "output_type": "stream",
     "text": [
      "\n",
      "Date: 2020-09-25\n",
      "https://spotifycharts.com/regional/ph/daily/2020-09-25/download\n"
     ]
    },
    {
     "name": "stderr",
     "output_type": "stream",
     "text": [
      "\n",
      "Collecting chart data from ph: 22it [00:23,  1.04s/it]"
     ]
    },
    {
     "name": "stdout",
     "output_type": "stream",
     "text": [
      "\n",
      "Date: 2020-09-26\n",
      "https://spotifycharts.com/regional/ph/daily/2020-09-26/download\n"
     ]
    },
    {
     "name": "stderr",
     "output_type": "stream",
     "text": [
      "\n",
      "Collecting chart data from ph: 23it [00:24,  1.08s/it]"
     ]
    },
    {
     "name": "stdout",
     "output_type": "stream",
     "text": [
      "\n",
      "Date: 2020-09-27\n",
      "https://spotifycharts.com/regional/ph/daily/2020-09-27/download\n"
     ]
    },
    {
     "name": "stderr",
     "output_type": "stream",
     "text": [
      "\n",
      "Collecting chart data from ph: 24it [00:25,  1.06s/it]"
     ]
    },
    {
     "name": "stdout",
     "output_type": "stream",
     "text": [
      "\n",
      "Date: 2020-09-28\n",
      "https://spotifycharts.com/regional/ph/daily/2020-09-28/download\n"
     ]
    },
    {
     "name": "stderr",
     "output_type": "stream",
     "text": [
      "\n",
      "Collecting chart data from ph: 25it [00:26,  1.07it/s]"
     ]
    },
    {
     "name": "stdout",
     "output_type": "stream",
     "text": [
      "\n",
      "Date: 2020-09-29\n",
      "https://spotifycharts.com/regional/ph/daily/2020-09-29/download\n"
     ]
    },
    {
     "name": "stderr",
     "output_type": "stream",
     "text": [
      "\n",
      "Collecting chart data from ph: 26it [00:27,  1.04it/s]"
     ]
    },
    {
     "name": "stdout",
     "output_type": "stream",
     "text": [
      "\n",
      "Date: 2020-09-30\n",
      "https://spotifycharts.com/regional/ph/daily/2020-09-30/download\n"
     ]
    },
    {
     "name": "stderr",
     "output_type": "stream",
     "text": [
      "\n",
      "Collecting chart data from ph: 27it [00:28,  1.00it/s]"
     ]
    },
    {
     "name": "stdout",
     "output_type": "stream",
     "text": [
      "\n",
      "Date: 2020-10-01\n",
      "https://spotifycharts.com/regional/ph/daily/2020-10-01/download\n"
     ]
    },
    {
     "name": "stderr",
     "output_type": "stream",
     "text": [
      "\n",
      "Collecting chart data from ph: 28it [00:29,  1.00it/s]"
     ]
    },
    {
     "name": "stdout",
     "output_type": "stream",
     "text": [
      "\n",
      "Date: 2020-10-02\n",
      "https://spotifycharts.com/regional/ph/daily/2020-10-02/download\n"
     ]
    },
    {
     "name": "stderr",
     "output_type": "stream",
     "text": [
      "\n",
      "Collecting chart data from ph: 29it [00:30,  1.01s/it]"
     ]
    },
    {
     "name": "stdout",
     "output_type": "stream",
     "text": [
      "\n",
      "Date: 2020-10-03\n",
      "https://spotifycharts.com/regional/ph/daily/2020-10-03/download\n"
     ]
    },
    {
     "name": "stderr",
     "output_type": "stream",
     "text": [
      "\n",
      "Collecting chart data from ph: 30it [00:31,  1.02s/it]"
     ]
    },
    {
     "name": "stdout",
     "output_type": "stream",
     "text": [
      "\n",
      "Date: 2020-10-04\n",
      "https://spotifycharts.com/regional/ph/daily/2020-10-04/download\n"
     ]
    },
    {
     "name": "stderr",
     "output_type": "stream",
     "text": [
      "\n",
      "Collecting chart data from ph: 31it [00:32,  1.05s/it]\n",
      "Collecting chart data from ph: 31it [00:32,  1.04s/it]\n"
     ]
    }
   ],
   "source": [
    "%run scrape_spotify_charts.py"
   ]
  },
  {
   "cell_type": "code",
   "execution_count": null,
   "metadata": {},
   "outputs": [],
   "source": []
  }
 ],
 "metadata": {
  "kernelspec": {
   "display_name": "Python 3",
   "language": "python",
   "name": "python3"
  },
  "language_info": {
   "codemirror_mode": {
    "name": "ipython",
    "version": 3
   },
   "file_extension": ".py",
   "mimetype": "text/x-python",
   "name": "python",
   "nbconvert_exporter": "python",
   "pygments_lexer": "ipython3",
   "version": "3.8.3"
  }
 },
 "nbformat": 4,
 "nbformat_minor": 4
}
