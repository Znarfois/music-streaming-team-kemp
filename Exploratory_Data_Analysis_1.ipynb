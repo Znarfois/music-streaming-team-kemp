{
 "cells": [
  {
   "cell_type": "markdown",
   "metadata": {},
   "source": [
    "# Exploratory Data Analysis 1\n",
    "An approach to EDA:  \n",
    "![image of the data flow showing visualization as an exploratory and iterative process](http://benbestphd.com/images/r4ds_data-science.png)"
   ]
  },
  {
   "cell_type": "markdown",
   "metadata": {},
   "source": [
    "#### The goal of EDA is to discover patterns in data. This is a fundamental stepping stone towards predictive modelling, or an end goal in itself. \n",
    "\n",
    "Tips for good EDA:\n",
    "- Get to know the context of the data.  \n",
    "- Question the data: Who collected it? Who is distributing it? Do all of the patterns make sense to what you know about the world? If they don’t, go back and look more closely at your data.\n",
    "\n",
    "- Use EDA to formulate a question based on the patterns that you see.\n",
    "- Use EDA to check if a hypothesis is worth a deeper analysis.\n",
    "\n",
    "- Keep the questions SIMPLE and BRIEF- the goal is to understand and build complexity further on.\n",
    "- Its an iterative process-- its okay to repeat things so long as you learn from previous output."
   ]
  },
  {
   "cell_type": "code",
   "execution_count": 13,
   "metadata": {
    "ExecuteTime": {
     "end_time": "2020-09-24T16:10:30.132434Z",
     "start_time": "2020-09-24T16:09:59.115180Z"
    }
   },
   "outputs": [],
   "source": [
    "# importing the libraries for data processing\n",
    "import numpy as np \n",
    "import pandas as pd \n",
    "\n"
   ]
  },
  {
   "cell_type": "markdown",
   "metadata": {},
   "source": [
    "### 1. Tidying our charts data"
   ]
  },
  {
   "cell_type": "markdown",
   "metadata": {},
   "source": [
    "Read the csv file, check for missing, duplicated and unexpected values, and filtering if needed"
   ]
  },
  {
   "cell_type": "code",
   "execution_count": 19,
   "metadata": {
    "ExecuteTime": {
     "end_time": "2020-09-24T16:13:59.415710Z",
     "start_time": "2020-09-24T16:13:57.552775Z"
    }
   },
   "outputs": [
    {
     "data": {
      "text/html": [
       "<div>\n",
       "<style scoped>\n",
       "    .dataframe tbody tr th:only-of-type {\n",
       "        vertical-align: middle;\n",
       "    }\n",
       "\n",
       "    .dataframe tbody tr th {\n",
       "        vertical-align: top;\n",
       "    }\n",
       "\n",
       "    .dataframe thead th {\n",
       "        text-align: right;\n",
       "    }\n",
       "</style>\n",
       "<table border=\"1\" class=\"dataframe\">\n",
       "  <thead>\n",
       "    <tr style=\"text-align: right;\">\n",
       "      <th></th>\n",
       "      <th>date</th>\n",
       "      <th>position</th>\n",
       "      <th>track_id</th>\n",
       "      <th>track_name</th>\n",
       "      <th>artist</th>\n",
       "      <th>streams</th>\n",
       "    </tr>\n",
       "  </thead>\n",
       "  <tbody>\n",
       "    <tr>\n",
       "      <th>0</th>\n",
       "      <td>2019-09-01</td>\n",
       "      <td>1</td>\n",
       "      <td>6IdEQ3HUseBeRUYFSzSMdL</td>\n",
       "      <td>Zebbiana</td>\n",
       "      <td>Skusta Clee</td>\n",
       "      <td>267548</td>\n",
       "    </tr>\n",
       "    <tr>\n",
       "      <th>1</th>\n",
       "      <td>2019-09-01</td>\n",
       "      <td>2</td>\n",
       "      <td>6v3KW9xbzN5yKLt9YKDYA2</td>\n",
       "      <td>Señorita</td>\n",
       "      <td>Shawn Mendes</td>\n",
       "      <td>259828</td>\n",
       "    </tr>\n",
       "    <tr>\n",
       "      <th>2</th>\n",
       "      <td>2019-09-01</td>\n",
       "      <td>3</td>\n",
       "      <td>1dGr1c8CrMLDpV6mPbImSI</td>\n",
       "      <td>Lover</td>\n",
       "      <td>Taylor Swift</td>\n",
       "      <td>240408</td>\n",
       "    </tr>\n",
       "    <tr>\n",
       "      <th>3</th>\n",
       "      <td>2019-09-01</td>\n",
       "      <td>4</td>\n",
       "      <td>0gDRtumoR9ZrvAlnniToMz</td>\n",
       "      <td>Ikaw At Ako</td>\n",
       "      <td>Moira Dela Torre</td>\n",
       "      <td>236726</td>\n",
       "    </tr>\n",
       "    <tr>\n",
       "      <th>4</th>\n",
       "      <td>2019-09-01</td>\n",
       "      <td>5</td>\n",
       "      <td>5l9g7py8RCblcvbZgGQgSd</td>\n",
       "      <td>Pagtingin</td>\n",
       "      <td>Ben&amp;Ben</td>\n",
       "      <td>190049</td>\n",
       "    </tr>\n",
       "  </tbody>\n",
       "</table>\n",
       "</div>"
      ],
      "text/plain": [
       "         date  position                track_id   track_name  \\\n",
       "0  2019-09-01         1  6IdEQ3HUseBeRUYFSzSMdL     Zebbiana   \n",
       "1  2019-09-01         2  6v3KW9xbzN5yKLt9YKDYA2     Señorita   \n",
       "2  2019-09-01         3  1dGr1c8CrMLDpV6mPbImSI        Lover   \n",
       "3  2019-09-01         4  0gDRtumoR9ZrvAlnniToMz  Ikaw At Ako   \n",
       "4  2019-09-01         5  5l9g7py8RCblcvbZgGQgSd    Pagtingin   \n",
       "\n",
       "             artist  streams  \n",
       "0       Skusta Clee   267548  \n",
       "1      Shawn Mendes   259828  \n",
       "2      Taylor Swift   240408  \n",
       "3  Moira Dela Torre   236726  \n",
       "4           Ben&Ben   190049  "
      ]
     },
     "execution_count": 19,
     "metadata": {},
     "output_type": "execute_result"
    }
   ],
   "source": [
    "# read the charts dataset\n",
    "charts_df = pd.read_csv(\"get_spotify_data/data/spotify_daily_charts.csv\")\n",
    "charts_df.head()"
   ]
  },
  {
   "cell_type": "markdown",
   "metadata": {},
   "source": [
    "### Data Checks\n",
    "It is prudent to do the following on a DataFrame before any analysis is made\n",
    "1. Check shape\n",
    "2. Check data types of columns\n",
    "3. Check null values in columns\n",
    "4. Check rows with null values\n",
    "5. Check for duplicates"
   ]
  },
  {
   "cell_type": "code",
   "execution_count": 20,
   "metadata": {
    "ExecuteTime": {
     "end_time": "2020-09-24T16:13:59.462682Z",
     "start_time": "2020-09-24T16:13:59.430702Z"
    }
   },
   "outputs": [
    {
     "data": {
      "text/plain": [
       "(76200, 6)"
      ]
     },
     "execution_count": 20,
     "metadata": {},
     "output_type": "execute_result"
    }
   ],
   "source": [
    "#Check the shape of the dataframe\n",
    "charts_df.shape "
   ]
  },
  {
   "cell_type": "code",
   "execution_count": 21,
   "metadata": {
    "ExecuteTime": {
     "end_time": "2020-09-24T16:13:59.653574Z",
     "start_time": "2020-09-24T16:13:59.619593Z"
    }
   },
   "outputs": [
    {
     "data": {
      "text/plain": [
       "date          object\n",
       "position       int64\n",
       "track_id      object\n",
       "track_name    object\n",
       "artist        object\n",
       "streams        int64\n",
       "dtype: object"
      ]
     },
     "execution_count": 21,
     "metadata": {},
     "output_type": "execute_result"
    }
   ],
   "source": [
    "#Check data types of the columns\n",
    "charts_df.dtypes"
   ]
  },
  {
   "cell_type": "code",
   "execution_count": 22,
   "metadata": {
    "ExecuteTime": {
     "end_time": "2020-09-24T16:14:00.250232Z",
     "start_time": "2020-09-24T16:13:59.773505Z"
    }
   },
   "outputs": [
    {
     "name": "stdout",
     "output_type": "stream",
     "text": [
      "<class 'pandas.core.frame.DataFrame'>\n",
      "RangeIndex: 76200 entries, 0 to 76199\n",
      "Data columns (total 6 columns):\n",
      " #   Column      Non-Null Count  Dtype \n",
      "---  ------      --------------  ----- \n",
      " 0   date        76200 non-null  object\n",
      " 1   position    76200 non-null  int64 \n",
      " 2   track_id    76200 non-null  object\n",
      " 3   track_name  76200 non-null  object\n",
      " 4   artist      76200 non-null  object\n",
      " 5   streams     76200 non-null  int64 \n",
      "dtypes: int64(2), object(4)\n",
      "memory usage: 3.5+ MB\n"
     ]
    }
   ],
   "source": [
    "#Check null values in the columns\n",
    "charts_df.info()"
   ]
  },
  {
   "cell_type": "code",
   "execution_count": 32,
   "metadata": {
    "ExecuteTime": {
     "end_time": "2020-09-24T16:29:08.171839Z",
     "start_time": "2020-09-24T16:29:07.127438Z"
    }
   },
   "outputs": [
    {
     "data": {
      "text/plain": [
       "0"
      ]
     },
     "execution_count": 32,
     "metadata": {},
     "output_type": "execute_result"
    }
   ],
   "source": [
    "#Check for duplicates\n",
    "sum(charts_df.duplicated())"
   ]
  },
  {
   "cell_type": "code",
   "execution_count": 33,
   "metadata": {
    "ExecuteTime": {
     "end_time": "2020-09-24T16:29:09.064331Z",
     "start_time": "2020-09-24T16:29:09.008363Z"
    }
   },
   "outputs": [
    {
     "data": {
      "text/plain": [
       "array([  1,   2,   3,   4,   5,   6,   7,   8,   9,  10,  11,  12,  13,\n",
       "        14,  15,  16,  17,  18,  19,  20,  21,  22,  23,  24,  25,  26,\n",
       "        27,  28,  29,  30,  31,  32,  33,  34,  35,  36,  37,  38,  39,\n",
       "        40,  41,  42,  43,  44,  45,  46,  47,  48,  49,  50,  51,  52,\n",
       "        53,  54,  55,  56,  57,  58,  59,  60,  61,  62,  63,  64,  65,\n",
       "        66,  67,  68,  69,  70,  71,  72,  73,  74,  75,  76,  77,  78,\n",
       "        79,  80,  81,  82,  83,  84,  85,  86,  87,  88,  89,  90,  91,\n",
       "        92,  93,  94,  95,  96,  97,  98,  99, 100, 101, 102, 103, 104,\n",
       "       105, 106, 107, 108, 109, 110, 111, 112, 113, 114, 115, 116, 117,\n",
       "       118, 119, 120, 121, 122, 123, 124, 125, 126, 127, 128, 129, 130,\n",
       "       131, 132, 133, 134, 135, 136, 137, 138, 139, 140, 141, 142, 143,\n",
       "       144, 145, 146, 147, 148, 149, 150, 151, 152, 153, 154, 155, 156,\n",
       "       157, 158, 159, 160, 161, 162, 163, 164, 165, 166, 167, 168, 169,\n",
       "       170, 171, 172, 173, 174, 175, 176, 177, 178, 179, 180, 181, 182,\n",
       "       183, 184, 185, 186, 187, 188, 189, 190, 191, 192, 193, 194, 195,\n",
       "       196, 197, 198, 199, 200], dtype=int64)"
      ]
     },
     "execution_count": 33,
     "metadata": {},
     "output_type": "execute_result"
    }
   ],
   "source": [
    "#check if unique values are expected\n",
    "charts_df['position'].unique()"
   ]
  },
  {
   "cell_type": "code",
   "execution_count": 25,
   "metadata": {
    "ExecuteTime": {
     "end_time": "2020-09-24T16:29:09.570044Z",
     "start_time": "2020-09-24T16:29:09.488088Z"
    }
   },
   "outputs": [
    {
     "data": {
      "text/plain": [
       "381"
      ]
     },
     "execution_count": 25,
     "metadata": {},
     "output_type": "execute_result"
    }
   ],
   "source": [
    "len(charts_df['artist'].unique())"
   ]
  },
  {
   "cell_type": "code",
   "execution_count": 26,
   "metadata": {
    "ExecuteTime": {
     "end_time": "2020-09-24T16:29:10.000799Z",
     "start_time": "2020-09-24T16:29:09.896852Z"
    }
   },
   "outputs": [
    {
     "data": {
      "text/plain": [
       "917"
      ]
     },
     "execution_count": 26,
     "metadata": {},
     "output_type": "execute_result"
    }
   ],
   "source": [
    "len(charts_df['track_name'].unique())"
   ]
  },
  {
   "cell_type": "code",
   "execution_count": 34,
   "metadata": {
    "ExecuteTime": {
     "end_time": "2020-09-24T16:29:10.430548Z",
     "start_time": "2020-09-24T16:29:10.316612Z"
    }
   },
   "outputs": [
    {
     "data": {
      "text/plain": [
       "1061"
      ]
     },
     "execution_count": 34,
     "metadata": {},
     "output_type": "execute_result"
    }
   ],
   "source": [
    "len(charts_df['track_id'].unique())"
   ]
  },
  {
   "cell_type": "code",
   "execution_count": 37,
   "metadata": {},
   "outputs": [
    {
     "ename": "SyntaxError",
     "evalue": "invalid syntax (<ipython-input-37-223b15d7e2ff>, line 1)",
     "output_type": "error",
     "traceback": [
      "\u001b[1;36m  File \u001b[1;32m\"<ipython-input-37-223b15d7e2ff>\"\u001b[1;36m, line \u001b[1;32m1\u001b[0m\n\u001b[1;33m    >Q: Why do we have different numbers of track ids and track names\u001b[0m\n\u001b[1;37m    ^\u001b[0m\n\u001b[1;31mSyntaxError\u001b[0m\u001b[1;31m:\u001b[0m invalid syntax\n"
     ]
    }
   ],
   "source": [
    ">Q: Why do we have different numbers of track ids and track names"
   ]
  },
  {
   "cell_type": "markdown",
   "metadata": {},
   "source": [
    "##### Convert date to datetime index\n",
    "Pandas has a very useful method `pd.to_datetime` that smartly recognizes date and time columns and allows for easier time series techniques"
   ]
  },
  {
   "cell_type": "code",
   "execution_count": 38,
   "metadata": {
    "ExecuteTime": {
     "end_time": "2020-09-24T16:29:14.140425Z",
     "start_time": "2020-09-24T16:29:13.837600Z"
    }
   },
   "outputs": [
    {
     "data": {
      "text/html": [
       "<div>\n",
       "<style scoped>\n",
       "    .dataframe tbody tr th:only-of-type {\n",
       "        vertical-align: middle;\n",
       "    }\n",
       "\n",
       "    .dataframe tbody tr th {\n",
       "        vertical-align: top;\n",
       "    }\n",
       "\n",
       "    .dataframe thead th {\n",
       "        text-align: right;\n",
       "    }\n",
       "</style>\n",
       "<table border=\"1\" class=\"dataframe\">\n",
       "  <thead>\n",
       "    <tr style=\"text-align: right;\">\n",
       "      <th></th>\n",
       "      <th>date</th>\n",
       "      <th>position</th>\n",
       "      <th>track_id</th>\n",
       "      <th>track_name</th>\n",
       "      <th>artist</th>\n",
       "      <th>streams</th>\n",
       "      <th>month</th>\n",
       "      <th>year</th>\n",
       "      <th>day</th>\n",
       "      <th>day_of_week</th>\n",
       "    </tr>\n",
       "  </thead>\n",
       "  <tbody>\n",
       "    <tr>\n",
       "      <th>0</th>\n",
       "      <td>2019-09-01</td>\n",
       "      <td>1</td>\n",
       "      <td>6IdEQ3HUseBeRUYFSzSMdL</td>\n",
       "      <td>Zebbiana</td>\n",
       "      <td>Skusta Clee</td>\n",
       "      <td>267548</td>\n",
       "      <td>9</td>\n",
       "      <td>2019</td>\n",
       "      <td>1</td>\n",
       "      <td>6</td>\n",
       "    </tr>\n",
       "    <tr>\n",
       "      <th>1</th>\n",
       "      <td>2019-09-01</td>\n",
       "      <td>2</td>\n",
       "      <td>6v3KW9xbzN5yKLt9YKDYA2</td>\n",
       "      <td>Señorita</td>\n",
       "      <td>Shawn Mendes</td>\n",
       "      <td>259828</td>\n",
       "      <td>9</td>\n",
       "      <td>2019</td>\n",
       "      <td>1</td>\n",
       "      <td>6</td>\n",
       "    </tr>\n",
       "    <tr>\n",
       "      <th>2</th>\n",
       "      <td>2019-09-01</td>\n",
       "      <td>3</td>\n",
       "      <td>1dGr1c8CrMLDpV6mPbImSI</td>\n",
       "      <td>Lover</td>\n",
       "      <td>Taylor Swift</td>\n",
       "      <td>240408</td>\n",
       "      <td>9</td>\n",
       "      <td>2019</td>\n",
       "      <td>1</td>\n",
       "      <td>6</td>\n",
       "    </tr>\n",
       "    <tr>\n",
       "      <th>3</th>\n",
       "      <td>2019-09-01</td>\n",
       "      <td>4</td>\n",
       "      <td>0gDRtumoR9ZrvAlnniToMz</td>\n",
       "      <td>Ikaw At Ako</td>\n",
       "      <td>Moira Dela Torre</td>\n",
       "      <td>236726</td>\n",
       "      <td>9</td>\n",
       "      <td>2019</td>\n",
       "      <td>1</td>\n",
       "      <td>6</td>\n",
       "    </tr>\n",
       "    <tr>\n",
       "      <th>4</th>\n",
       "      <td>2019-09-01</td>\n",
       "      <td>5</td>\n",
       "      <td>5l9g7py8RCblcvbZgGQgSd</td>\n",
       "      <td>Pagtingin</td>\n",
       "      <td>Ben&amp;Ben</td>\n",
       "      <td>190049</td>\n",
       "      <td>9</td>\n",
       "      <td>2019</td>\n",
       "      <td>1</td>\n",
       "      <td>6</td>\n",
       "    </tr>\n",
       "  </tbody>\n",
       "</table>\n",
       "</div>"
      ],
      "text/plain": [
       "        date  position                track_id   track_name            artist  \\\n",
       "0 2019-09-01         1  6IdEQ3HUseBeRUYFSzSMdL     Zebbiana       Skusta Clee   \n",
       "1 2019-09-01         2  6v3KW9xbzN5yKLt9YKDYA2     Señorita      Shawn Mendes   \n",
       "2 2019-09-01         3  1dGr1c8CrMLDpV6mPbImSI        Lover      Taylor Swift   \n",
       "3 2019-09-01         4  0gDRtumoR9ZrvAlnniToMz  Ikaw At Ako  Moira Dela Torre   \n",
       "4 2019-09-01         5  5l9g7py8RCblcvbZgGQgSd    Pagtingin           Ben&Ben   \n",
       "\n",
       "   streams  month  year  day  day_of_week  \n",
       "0   267548      9  2019    1            6  \n",
       "1   259828      9  2019    1            6  \n",
       "2   240408      9  2019    1            6  \n",
       "3   236726      9  2019    1            6  \n",
       "4   190049      9  2019    1            6  "
      ]
     },
     "execution_count": 38,
     "metadata": {},
     "output_type": "execute_result"
    }
   ],
   "source": [
    "#transform date column into a datetime column\n",
    "charts_df['date'] = pd.to_datetime(charts_df['date'])\n",
    "charts_df.head()"
   ]
  },
  {
   "cell_type": "code",
   "execution_count": 39,
   "metadata": {
    "ExecuteTime": {
     "end_time": "2020-09-24T16:29:14.584185Z",
     "start_time": "2020-09-24T16:29:14.406273Z"
    }
   },
   "outputs": [
    {
     "data": {
      "text/html": [
       "<div>\n",
       "<style scoped>\n",
       "    .dataframe tbody tr th:only-of-type {\n",
       "        vertical-align: middle;\n",
       "    }\n",
       "\n",
       "    .dataframe tbody tr th {\n",
       "        vertical-align: top;\n",
       "    }\n",
       "\n",
       "    .dataframe thead th {\n",
       "        text-align: right;\n",
       "    }\n",
       "</style>\n",
       "<table border=\"1\" class=\"dataframe\">\n",
       "  <thead>\n",
       "    <tr style=\"text-align: right;\">\n",
       "      <th></th>\n",
       "      <th>date</th>\n",
       "      <th>position</th>\n",
       "      <th>track_id</th>\n",
       "      <th>track_name</th>\n",
       "      <th>artist</th>\n",
       "      <th>streams</th>\n",
       "      <th>month</th>\n",
       "      <th>year</th>\n",
       "      <th>day</th>\n",
       "      <th>day_of_week</th>\n",
       "    </tr>\n",
       "  </thead>\n",
       "  <tbody>\n",
       "    <tr>\n",
       "      <th>0</th>\n",
       "      <td>2019-09-01</td>\n",
       "      <td>1</td>\n",
       "      <td>6IdEQ3HUseBeRUYFSzSMdL</td>\n",
       "      <td>Zebbiana</td>\n",
       "      <td>Skusta Clee</td>\n",
       "      <td>267548</td>\n",
       "      <td>9</td>\n",
       "      <td>2019</td>\n",
       "      <td>1</td>\n",
       "      <td>6</td>\n",
       "    </tr>\n",
       "    <tr>\n",
       "      <th>1</th>\n",
       "      <td>2019-09-01</td>\n",
       "      <td>2</td>\n",
       "      <td>6v3KW9xbzN5yKLt9YKDYA2</td>\n",
       "      <td>Señorita</td>\n",
       "      <td>Shawn Mendes</td>\n",
       "      <td>259828</td>\n",
       "      <td>9</td>\n",
       "      <td>2019</td>\n",
       "      <td>1</td>\n",
       "      <td>6</td>\n",
       "    </tr>\n",
       "    <tr>\n",
       "      <th>2</th>\n",
       "      <td>2019-09-01</td>\n",
       "      <td>3</td>\n",
       "      <td>1dGr1c8CrMLDpV6mPbImSI</td>\n",
       "      <td>Lover</td>\n",
       "      <td>Taylor Swift</td>\n",
       "      <td>240408</td>\n",
       "      <td>9</td>\n",
       "      <td>2019</td>\n",
       "      <td>1</td>\n",
       "      <td>6</td>\n",
       "    </tr>\n",
       "    <tr>\n",
       "      <th>3</th>\n",
       "      <td>2019-09-01</td>\n",
       "      <td>4</td>\n",
       "      <td>0gDRtumoR9ZrvAlnniToMz</td>\n",
       "      <td>Ikaw At Ako</td>\n",
       "      <td>Moira Dela Torre</td>\n",
       "      <td>236726</td>\n",
       "      <td>9</td>\n",
       "      <td>2019</td>\n",
       "      <td>1</td>\n",
       "      <td>6</td>\n",
       "    </tr>\n",
       "    <tr>\n",
       "      <th>4</th>\n",
       "      <td>2019-09-01</td>\n",
       "      <td>5</td>\n",
       "      <td>5l9g7py8RCblcvbZgGQgSd</td>\n",
       "      <td>Pagtingin</td>\n",
       "      <td>Ben&amp;Ben</td>\n",
       "      <td>190049</td>\n",
       "      <td>9</td>\n",
       "      <td>2019</td>\n",
       "      <td>1</td>\n",
       "      <td>6</td>\n",
       "    </tr>\n",
       "  </tbody>\n",
       "</table>\n",
       "</div>"
      ],
      "text/plain": [
       "        date  position                track_id   track_name            artist  \\\n",
       "0 2019-09-01         1  6IdEQ3HUseBeRUYFSzSMdL     Zebbiana       Skusta Clee   \n",
       "1 2019-09-01         2  6v3KW9xbzN5yKLt9YKDYA2     Señorita      Shawn Mendes   \n",
       "2 2019-09-01         3  1dGr1c8CrMLDpV6mPbImSI        Lover      Taylor Swift   \n",
       "3 2019-09-01         4  0gDRtumoR9ZrvAlnniToMz  Ikaw At Ako  Moira Dela Torre   \n",
       "4 2019-09-01         5  5l9g7py8RCblcvbZgGQgSd    Pagtingin           Ben&Ben   \n",
       "\n",
       "   streams  month  year  day  day_of_week  \n",
       "0   267548      9  2019    1            6  \n",
       "1   259828      9  2019    1            6  \n",
       "2   240408      9  2019    1            6  \n",
       "3   236726      9  2019    1            6  \n",
       "4   190049      9  2019    1            6  "
      ]
     },
     "execution_count": 39,
     "metadata": {},
     "output_type": "execute_result"
    }
   ],
   "source": [
    "#extract month \n",
    "charts_df['month']=charts_df['date'].dt.month\n",
    "charts_df.head()"
   ]
  },
  {
   "cell_type": "code",
   "execution_count": 40,
   "metadata": {
    "ExecuteTime": {
     "end_time": "2020-09-24T16:29:15.493651Z",
     "start_time": "2020-09-24T16:29:15.120865Z"
    }
   },
   "outputs": [
    {
     "data": {
      "text/html": [
       "<div>\n",
       "<style scoped>\n",
       "    .dataframe tbody tr th:only-of-type {\n",
       "        vertical-align: middle;\n",
       "    }\n",
       "\n",
       "    .dataframe tbody tr th {\n",
       "        vertical-align: top;\n",
       "    }\n",
       "\n",
       "    .dataframe thead th {\n",
       "        text-align: right;\n",
       "    }\n",
       "</style>\n",
       "<table border=\"1\" class=\"dataframe\">\n",
       "  <thead>\n",
       "    <tr style=\"text-align: right;\">\n",
       "      <th></th>\n",
       "      <th>date</th>\n",
       "      <th>position</th>\n",
       "      <th>track_id</th>\n",
       "      <th>track_name</th>\n",
       "      <th>artist</th>\n",
       "      <th>streams</th>\n",
       "      <th>month</th>\n",
       "      <th>year</th>\n",
       "      <th>day</th>\n",
       "      <th>day_of_week</th>\n",
       "    </tr>\n",
       "  </thead>\n",
       "  <tbody>\n",
       "    <tr>\n",
       "      <th>0</th>\n",
       "      <td>2019-09-01</td>\n",
       "      <td>1</td>\n",
       "      <td>6IdEQ3HUseBeRUYFSzSMdL</td>\n",
       "      <td>Zebbiana</td>\n",
       "      <td>Skusta Clee</td>\n",
       "      <td>267548</td>\n",
       "      <td>9</td>\n",
       "      <td>2019</td>\n",
       "      <td>1</td>\n",
       "      <td>6</td>\n",
       "    </tr>\n",
       "    <tr>\n",
       "      <th>1</th>\n",
       "      <td>2019-09-01</td>\n",
       "      <td>2</td>\n",
       "      <td>6v3KW9xbzN5yKLt9YKDYA2</td>\n",
       "      <td>Señorita</td>\n",
       "      <td>Shawn Mendes</td>\n",
       "      <td>259828</td>\n",
       "      <td>9</td>\n",
       "      <td>2019</td>\n",
       "      <td>1</td>\n",
       "      <td>6</td>\n",
       "    </tr>\n",
       "    <tr>\n",
       "      <th>2</th>\n",
       "      <td>2019-09-01</td>\n",
       "      <td>3</td>\n",
       "      <td>1dGr1c8CrMLDpV6mPbImSI</td>\n",
       "      <td>Lover</td>\n",
       "      <td>Taylor Swift</td>\n",
       "      <td>240408</td>\n",
       "      <td>9</td>\n",
       "      <td>2019</td>\n",
       "      <td>1</td>\n",
       "      <td>6</td>\n",
       "    </tr>\n",
       "    <tr>\n",
       "      <th>3</th>\n",
       "      <td>2019-09-01</td>\n",
       "      <td>4</td>\n",
       "      <td>0gDRtumoR9ZrvAlnniToMz</td>\n",
       "      <td>Ikaw At Ako</td>\n",
       "      <td>Moira Dela Torre</td>\n",
       "      <td>236726</td>\n",
       "      <td>9</td>\n",
       "      <td>2019</td>\n",
       "      <td>1</td>\n",
       "      <td>6</td>\n",
       "    </tr>\n",
       "    <tr>\n",
       "      <th>4</th>\n",
       "      <td>2019-09-01</td>\n",
       "      <td>5</td>\n",
       "      <td>5l9g7py8RCblcvbZgGQgSd</td>\n",
       "      <td>Pagtingin</td>\n",
       "      <td>Ben&amp;Ben</td>\n",
       "      <td>190049</td>\n",
       "      <td>9</td>\n",
       "      <td>2019</td>\n",
       "      <td>1</td>\n",
       "      <td>6</td>\n",
       "    </tr>\n",
       "  </tbody>\n",
       "</table>\n",
       "</div>"
      ],
      "text/plain": [
       "        date  position                track_id   track_name            artist  \\\n",
       "0 2019-09-01         1  6IdEQ3HUseBeRUYFSzSMdL     Zebbiana       Skusta Clee   \n",
       "1 2019-09-01         2  6v3KW9xbzN5yKLt9YKDYA2     Señorita      Shawn Mendes   \n",
       "2 2019-09-01         3  1dGr1c8CrMLDpV6mPbImSI        Lover      Taylor Swift   \n",
       "3 2019-09-01         4  0gDRtumoR9ZrvAlnniToMz  Ikaw At Ako  Moira Dela Torre   \n",
       "4 2019-09-01         5  5l9g7py8RCblcvbZgGQgSd    Pagtingin           Ben&Ben   \n",
       "\n",
       "   streams  month  year  day  day_of_week  \n",
       "0   267548      9  2019    1            6  \n",
       "1   259828      9  2019    1            6  \n",
       "2   240408      9  2019    1            6  \n",
       "3   236726      9  2019    1            6  \n",
       "4   190049      9  2019    1            6  "
      ]
     },
     "execution_count": 40,
     "metadata": {},
     "output_type": "execute_result"
    }
   ],
   "source": [
    "#extract year\n",
    "charts_df['year']=charts_df['date'].dt.year\n",
    "# get day and day of week\n",
    "charts_df['day']=charts_df['date'].dt.day\n",
    "charts_df['day_of_week']=charts_df['date'].dt.dayofweek # The day of the week with Monday=0, Sunday=6.\n",
    "charts_df.head()"
   ]
  },
  {
   "cell_type": "markdown",
   "metadata": {},
   "source": [
    "### 2. Examining the charts data\n",
    "Reshape and aggregate the DataFrame to answer basic data questions "
   ]
  },
  {
   "cell_type": "code",
   "execution_count": 41,
   "metadata": {
    "ExecuteTime": {
     "end_time": "2020-09-24T16:19:13.516021Z",
     "start_time": "2020-09-24T16:19:13.390097Z"
    }
   },
   "outputs": [
    {
     "data": {
      "text/plain": [
       "Ben&Ben             3362\n",
       "Taylor Swift        2518\n",
       "December Avenue     2326\n",
       "Lauv                2118\n",
       "LANY                1940\n",
       "Ed Sheeran          1749\n",
       "Moira Dela Torre    1618\n",
       "This Band           1109\n",
       "BTS                 1089\n",
       "Post Malone         1047\n",
       "Name: artist, dtype: int64"
      ]
     },
     "execution_count": 41,
     "metadata": {},
     "output_type": "execute_result"
    }
   ],
   "source": [
    "#Lets create tallies of each column using the `value_counts` method\n",
    "charts_df['artist'].value_counts()[:10]"
   ]
  },
  {
   "cell_type": "code",
   "execution_count": 42,
   "metadata": {
    "ExecuteTime": {
     "end_time": "2020-09-24T16:19:15.732753Z",
     "start_time": "2020-09-24T16:19:15.677784Z"
    }
   },
   "outputs": [
    {
     "data": {
      "text/plain": [
       "Falling                            462\n",
       "Nobela                             446\n",
       "Ang Huling El Bimbo                402\n",
       "Hindi Na Nga                       381\n",
       "Señorita                           381\n",
       "                                  ... \n",
       "Despacito - Remix                    1\n",
       "BOY - KR Ver.                        1\n",
       "Merry Christmas, Happy Holidays      1\n",
       "You're Beautiful                     1\n",
       "Kwento Ng Pasko                      1\n",
       "Name: track_name, Length: 917, dtype: int64"
      ]
     },
     "execution_count": 42,
     "metadata": {},
     "output_type": "execute_result"
    }
   ],
   "source": [
    "charts_df['track_name'].value_counts()"
   ]
  },
  {
   "cell_type": "code",
   "execution_count": 45,
   "metadata": {
    "ExecuteTime": {
     "end_time": "2020-09-24T16:21:22.114455Z",
     "start_time": "2020-09-24T16:21:22.036502Z"
    }
   },
   "outputs": [
    {
     "data": {
      "text/html": [
       "<div>\n",
       "<style scoped>\n",
       "    .dataframe tbody tr th:only-of-type {\n",
       "        vertical-align: middle;\n",
       "    }\n",
       "\n",
       "    .dataframe tbody tr th {\n",
       "        vertical-align: top;\n",
       "    }\n",
       "\n",
       "    .dataframe thead th {\n",
       "        text-align: right;\n",
       "    }\n",
       "</style>\n",
       "<table border=\"1\" class=\"dataframe\">\n",
       "  <thead>\n",
       "    <tr style=\"text-align: right;\">\n",
       "      <th></th>\n",
       "      <th>date</th>\n",
       "      <th>position</th>\n",
       "      <th>track_id</th>\n",
       "      <th>track_name</th>\n",
       "      <th>artist</th>\n",
       "      <th>streams</th>\n",
       "      <th>month</th>\n",
       "      <th>year</th>\n",
       "      <th>day</th>\n",
       "      <th>day_of_week</th>\n",
       "    </tr>\n",
       "  </thead>\n",
       "  <tbody>\n",
       "    <tr>\n",
       "      <th>121</th>\n",
       "      <td>2019-09-01</td>\n",
       "      <td>122</td>\n",
       "      <td>2dpaYNEQHiRxtZbfNsse99</td>\n",
       "      <td>Happier</td>\n",
       "      <td>Marshmello</td>\n",
       "      <td>33236</td>\n",
       "      <td>9</td>\n",
       "      <td>2019</td>\n",
       "      <td>1</td>\n",
       "      <td>6</td>\n",
       "    </tr>\n",
       "    <tr>\n",
       "      <th>161</th>\n",
       "      <td>2019-09-01</td>\n",
       "      <td>162</td>\n",
       "      <td>2RttW7RAu5nOAfq6YFvApB</td>\n",
       "      <td>Happier</td>\n",
       "      <td>Ed Sheeran</td>\n",
       "      <td>26867</td>\n",
       "      <td>9</td>\n",
       "      <td>2019</td>\n",
       "      <td>1</td>\n",
       "      <td>6</td>\n",
       "    </tr>\n",
       "    <tr>\n",
       "      <th>330</th>\n",
       "      <td>2019-09-02</td>\n",
       "      <td>131</td>\n",
       "      <td>2dpaYNEQHiRxtZbfNsse99</td>\n",
       "      <td>Happier</td>\n",
       "      <td>Marshmello</td>\n",
       "      <td>33689</td>\n",
       "      <td>9</td>\n",
       "      <td>2019</td>\n",
       "      <td>2</td>\n",
       "      <td>0</td>\n",
       "    </tr>\n",
       "    <tr>\n",
       "      <th>354</th>\n",
       "      <td>2019-09-02</td>\n",
       "      <td>155</td>\n",
       "      <td>2RttW7RAu5nOAfq6YFvApB</td>\n",
       "      <td>Happier</td>\n",
       "      <td>Ed Sheeran</td>\n",
       "      <td>29317</td>\n",
       "      <td>9</td>\n",
       "      <td>2019</td>\n",
       "      <td>2</td>\n",
       "      <td>0</td>\n",
       "    </tr>\n",
       "    <tr>\n",
       "      <th>523</th>\n",
       "      <td>2019-09-03</td>\n",
       "      <td>124</td>\n",
       "      <td>2dpaYNEQHiRxtZbfNsse99</td>\n",
       "      <td>Happier</td>\n",
       "      <td>Marshmello</td>\n",
       "      <td>35083</td>\n",
       "      <td>9</td>\n",
       "      <td>2019</td>\n",
       "      <td>3</td>\n",
       "      <td>1</td>\n",
       "    </tr>\n",
       "    <tr>\n",
       "      <th>...</th>\n",
       "      <td>...</td>\n",
       "      <td>...</td>\n",
       "      <td>...</td>\n",
       "      <td>...</td>\n",
       "      <td>...</td>\n",
       "      <td>...</td>\n",
       "      <td>...</td>\n",
       "      <td>...</td>\n",
       "      <td>...</td>\n",
       "      <td>...</td>\n",
       "    </tr>\n",
       "    <tr>\n",
       "      <th>33583</th>\n",
       "      <td>2020-02-15</td>\n",
       "      <td>184</td>\n",
       "      <td>2dpaYNEQHiRxtZbfNsse99</td>\n",
       "      <td>Happier</td>\n",
       "      <td>Marshmello</td>\n",
       "      <td>28298</td>\n",
       "      <td>2</td>\n",
       "      <td>2020</td>\n",
       "      <td>15</td>\n",
       "      <td>5</td>\n",
       "    </tr>\n",
       "    <tr>\n",
       "      <th>33796</th>\n",
       "      <td>2020-02-16</td>\n",
       "      <td>197</td>\n",
       "      <td>2dpaYNEQHiRxtZbfNsse99</td>\n",
       "      <td>Happier</td>\n",
       "      <td>Marshmello</td>\n",
       "      <td>26734</td>\n",
       "      <td>2</td>\n",
       "      <td>2020</td>\n",
       "      <td>16</td>\n",
       "      <td>6</td>\n",
       "    </tr>\n",
       "    <tr>\n",
       "      <th>37795</th>\n",
       "      <td>2020-03-07</td>\n",
       "      <td>196</td>\n",
       "      <td>2dpaYNEQHiRxtZbfNsse99</td>\n",
       "      <td>Happier</td>\n",
       "      <td>Marshmello</td>\n",
       "      <td>26758</td>\n",
       "      <td>3</td>\n",
       "      <td>2020</td>\n",
       "      <td>7</td>\n",
       "      <td>5</td>\n",
       "    </tr>\n",
       "    <tr>\n",
       "      <th>47990</th>\n",
       "      <td>2020-04-27</td>\n",
       "      <td>191</td>\n",
       "      <td>2RttW7RAu5nOAfq6YFvApB</td>\n",
       "      <td>Happier</td>\n",
       "      <td>Ed Sheeran</td>\n",
       "      <td>21555</td>\n",
       "      <td>4</td>\n",
       "      <td>2020</td>\n",
       "      <td>27</td>\n",
       "      <td>0</td>\n",
       "    </tr>\n",
       "    <tr>\n",
       "      <th>48193</th>\n",
       "      <td>2020-04-28</td>\n",
       "      <td>194</td>\n",
       "      <td>2RttW7RAu5nOAfq6YFvApB</td>\n",
       "      <td>Happier</td>\n",
       "      <td>Ed Sheeran</td>\n",
       "      <td>21499</td>\n",
       "      <td>4</td>\n",
       "      <td>2020</td>\n",
       "      <td>28</td>\n",
       "      <td>1</td>\n",
       "    </tr>\n",
       "  </tbody>\n",
       "</table>\n",
       "<p>260 rows × 10 columns</p>\n",
       "</div>"
      ],
      "text/plain": [
       "            date  position                track_id track_name      artist  \\\n",
       "121   2019-09-01       122  2dpaYNEQHiRxtZbfNsse99    Happier  Marshmello   \n",
       "161   2019-09-01       162  2RttW7RAu5nOAfq6YFvApB    Happier  Ed Sheeran   \n",
       "330   2019-09-02       131  2dpaYNEQHiRxtZbfNsse99    Happier  Marshmello   \n",
       "354   2019-09-02       155  2RttW7RAu5nOAfq6YFvApB    Happier  Ed Sheeran   \n",
       "523   2019-09-03       124  2dpaYNEQHiRxtZbfNsse99    Happier  Marshmello   \n",
       "...          ...       ...                     ...        ...         ...   \n",
       "33583 2020-02-15       184  2dpaYNEQHiRxtZbfNsse99    Happier  Marshmello   \n",
       "33796 2020-02-16       197  2dpaYNEQHiRxtZbfNsse99    Happier  Marshmello   \n",
       "37795 2020-03-07       196  2dpaYNEQHiRxtZbfNsse99    Happier  Marshmello   \n",
       "47990 2020-04-27       191  2RttW7RAu5nOAfq6YFvApB    Happier  Ed Sheeran   \n",
       "48193 2020-04-28       194  2RttW7RAu5nOAfq6YFvApB    Happier  Ed Sheeran   \n",
       "\n",
       "       streams  month  year  day  day_of_week  \n",
       "121      33236      9  2019    1            6  \n",
       "161      26867      9  2019    1            6  \n",
       "330      33689      9  2019    2            0  \n",
       "354      29317      9  2019    2            0  \n",
       "523      35083      9  2019    3            1  \n",
       "...        ...    ...   ...  ...          ...  \n",
       "33583    28298      2  2020   15            5  \n",
       "33796    26734      2  2020   16            6  \n",
       "37795    26758      3  2020    7            5  \n",
       "47990    21555      4  2020   27            0  \n",
       "48193    21499      4  2020   28            1  \n",
       "\n",
       "[260 rows x 10 columns]"
      ]
     },
     "execution_count": 45,
     "metadata": {},
     "output_type": "execute_result"
    }
   ],
   "source": [
    "#filtering columns\n",
    "charts_df[charts_df['track_name']=='Happier']"
   ]
  },
  {
   "cell_type": "markdown",
   "metadata": {},
   "source": [
    "> Q1. From top 50 most streamed, get top 20 most frequently occuring artists"
   ]
  },
  {
   "cell_type": "code",
   "execution_count": 46,
   "metadata": {
    "ExecuteTime": {
     "end_time": "2020-09-24T16:22:21.465502Z",
     "start_time": "2020-09-24T16:22:21.403538Z"
    }
   },
   "outputs": [
    {
     "data": {
      "text/plain": [
       "Ben&Ben                2317\n",
       "December Avenue         768\n",
       "Matthaios               657\n",
       "Lauv                    622\n",
       "Taylor Swift            479\n",
       "Post Malone             466\n",
       "Lewis Capaldi           456\n",
       "Dua Lipa                423\n",
       "Maroon 5                403\n",
       "I Belong to the Zoo     379\n",
       "Justin Bieber           362\n",
       "Ed Sheeran              346\n",
       "This Band               325\n",
       "Moira Dela Torre        319\n",
       "Dan + Shay              314\n",
       "Kina                    313\n",
       "Magnus Haven            312\n",
       "The Juans               306\n",
       "Jeremy Zucker           294\n",
       "Tones And I             282\n",
       "Name: artist, dtype: int64"
      ]
     },
     "execution_count": 46,
     "metadata": {},
     "output_type": "execute_result"
    }
   ],
   "source": [
    "charts_df[charts_df['position']<=50]['artist'].value_counts()[:20]"
   ]
  },
  {
   "cell_type": "markdown",
   "metadata": {},
   "source": [
    "> Q2. From top 50 list this year, get top 20 most frequently occuring artists"
   ]
  },
  {
   "cell_type": "code",
   "execution_count": 47,
   "metadata": {
    "ExecuteTime": {
     "end_time": "2020-09-24T16:29:41.441809Z",
     "start_time": "2020-09-24T16:29:41.326874Z"
    }
   },
   "outputs": [
    {
     "data": {
      "text/plain": [
       "Taylor Swift          1336\n",
       "December Avenue       1242\n",
       "Lauv                  1231\n",
       "Moira Dela Torre       957\n",
       "LANY                   916\n",
       "Ed Sheeran             891\n",
       "Ben&Ben                763\n",
       "BTS                    713\n",
       "Sam Smith              654\n",
       "This Band              621\n",
       "TWICE                  584\n",
       "Harry Styles           581\n",
       "Hale                   518\n",
       "South Border           515\n",
       "Jason Mraz             514\n",
       "Michael Pangilinan     481\n",
       "Shawn Mendes           446\n",
       "Post Malone            443\n",
       "PDL                    417\n",
       "BLACKPINK              417\n",
       "Name: artist, dtype: int64"
      ]
     },
     "execution_count": 47,
     "metadata": {},
     "output_type": "execute_result"
    }
   ],
   "source": [
    "charts_df[(charts_df['position']>=50)&(charts_df['year']==2020)]['artist'].value_counts()[:20]"
   ]
  },
  {
   "cell_type": "markdown",
   "metadata": {},
   "source": [
    "> Q3. On what positions did Taylor Swift land on the chart for 2019? What were her songs that landed first on the chart?"
   ]
  },
  {
   "cell_type": "code",
   "execution_count": 48,
   "metadata": {
    "ExecuteTime": {
     "end_time": "2020-09-24T16:35:18.334080Z",
     "start_time": "2020-09-24T16:35:18.291107Z"
    }
   },
   "outputs": [
    {
     "data": {
      "text/plain": [
       "array([  3,   4,   5,   6,   7,   8,   9,  10,  13,  14,  15,  16,  17,\n",
       "        18,  19,  21,  22,  23,  24,  25,  26,  27,  28,  29,  30,  31,\n",
       "        32,  33,  34,  35,  36,  37,  38,  39,  40,  41,  42,  43,  44,\n",
       "        45,  46,  47,  48,  49,  50,  51,  52,  53,  54,  55,  56,  57,\n",
       "        58,  59,  60,  61,  62,  63,  64,  65,  66,  67,  68,  69,  70,\n",
       "        71,  72,  73,  74,  75,  76,  77,  78,  79,  80,  81,  82,  83,\n",
       "        84,  85,  86,  87,  88,  89,  90,  91,  92,  93,  94,  95,  96,\n",
       "        97,  98,  99, 100, 101, 102, 103, 104, 105, 106, 107, 108, 109,\n",
       "       110, 111, 112, 113, 114, 115, 116, 117, 118, 119, 120, 121, 122,\n",
       "       123, 124, 125, 126, 127, 128, 129, 130, 131, 132, 133, 134, 135,\n",
       "       136, 137, 138, 139, 140, 141, 142, 143, 144, 145, 146, 147, 148,\n",
       "       150, 152, 153, 154, 155, 156, 157, 158, 159, 160, 161, 162, 163,\n",
       "       164, 165, 166, 167, 168, 169, 170, 171, 172, 173, 174, 175, 176,\n",
       "       177, 179, 181, 182, 183, 184, 185, 186, 187, 188, 189, 190, 192,\n",
       "       193, 194, 195, 196, 197, 198, 199, 200], dtype=int64)"
      ]
     },
     "execution_count": 48,
     "metadata": {},
     "output_type": "execute_result"
    }
   ],
   "source": [
    "np.sort(charts_df[(charts_df['artist']=='Taylor Swift')&(charts_df['year']==2019)]['position'].unique())"
   ]
  },
  {
   "cell_type": "code",
   "execution_count": 49,
   "metadata": {
    "ExecuteTime": {
     "end_time": "2020-09-24T16:36:36.631291Z",
     "start_time": "2020-09-24T16:36:36.464387Z"
    }
   },
   "outputs": [
    {
     "data": {
      "text/plain": [
       "array([], dtype=object)"
      ]
     },
     "execution_count": 49,
     "metadata": {},
     "output_type": "execute_result"
    }
   ],
   "source": [
    "charts_df[(charts_df['artist']=='Taylor Swift')&\\\n",
    "                    (charts_df['year']==2019)&\\\n",
    "                    (charts_df['position']==1)]['track_name'].unique()"
   ]
  },
  {
   "cell_type": "markdown",
   "metadata": {},
   "source": [
    "### 3. Describing and Aggregating the charts dataset\n"
   ]
  },
  {
   "cell_type": "markdown",
   "metadata": {},
   "source": [
    "Basic stats on the streams column using the `describe` method"
   ]
  },
  {
   "cell_type": "code",
   "execution_count": 50,
   "metadata": {
    "ExecuteTime": {
     "end_time": "2020-09-24T16:46:04.681094Z",
     "start_time": "2020-09-24T16:46:04.624126Z"
    }
   },
   "outputs": [
    {
     "data": {
      "text/plain": [
       "count     76200.000000\n",
       "mean      55065.761063\n",
       "std       44052.659114\n",
       "min       18324.000000\n",
       "25%       28517.750000\n",
       "50%       36583.500000\n",
       "75%       63558.750000\n",
       "max      514546.000000\n",
       "Name: streams, dtype: float64"
      ]
     },
     "execution_count": 50,
     "metadata": {},
     "output_type": "execute_result"
    }
   ],
   "source": [
    "charts_df['streams'].describe()"
   ]
  },
  {
   "cell_type": "markdown",
   "metadata": {},
   "source": [
    "The pandas GroupBy operator functions in the same way as pivot_table in excel\n",
    "\n",
    "The syntax is:\n",
    "```python\n",
    "df.groupby('index_column')['agg_column'].aggfunc\n",
    "df.groupby(['index_column1','index_column2']).agg('agg_column1':aggfunc1, 'agg_column2':aggfunc2)\n",
    "```\n"
   ]
  },
  {
   "cell_type": "markdown",
   "metadata": {},
   "source": [
    "Q: How many total streams did Spotify earn per year?"
   ]
  },
  {
   "cell_type": "code",
   "execution_count": null,
   "metadata": {
    "ExecuteTime": {
     "end_time": "2020-09-24T16:46:39.052430Z",
     "start_time": "2020-09-24T16:46:38.859540Z"
    }
   },
   "outputs": [],
   "source": [
    "charts_df.groupby('year')['streams'].sum()   #inputting a column name string in agg_column outputs a Series"
   ]
  },
  {
   "cell_type": "code",
   "execution_count": null,
   "metadata": {
    "ExecuteTime": {
     "end_time": "2020-09-24T16:46:54.721468Z",
     "start_time": "2020-09-24T16:46:54.581550Z"
    }
   },
   "outputs": [],
   "source": [
    "charts_df.groupby('year')[['streams']].sum()   #inputting a list in agg_column outputs a DataFrame"
   ]
  },
  {
   "cell_type": "markdown",
   "metadata": {},
   "source": [
    "> Q: How many streams did each of the 200 positions contribute to the annual streams of spotify?"
   ]
  },
  {
   "cell_type": "code",
   "execution_count": null,
   "metadata": {
    "ExecuteTime": {
     "end_time": "2020-09-24T16:47:23.672903Z",
     "start_time": "2020-09-24T16:47:23.402060Z"
    }
   },
   "outputs": [],
   "source": [
    "charts_df.groupby(['year','position'])[['streams']].sum()   #inputting a list in agg_column outputs a DataFrame"
   ]
  },
  {
   "cell_type": "markdown",
   "metadata": {},
   "source": [
    "> Q: What visualization would best suit the output of the cell above?"
   ]
  },
  {
   "cell_type": "markdown",
   "metadata": {},
   "source": [
    "### 4. Combining two datasets"
   ]
  },
  {
   "cell_type": "markdown",
   "metadata": {},
   "source": [
    "- What insights could we get from merging the charts and tracks datasets?"
   ]
  },
  {
   "cell_type": "code",
   "execution_count": null,
   "metadata": {
    "ExecuteTime": {
     "end_time": "2020-09-30T15:39:38.555482Z",
     "start_time": "2020-09-30T15:39:38.101740Z"
    }
   },
   "outputs": [],
   "source": [
    "# read the tracks dataset\n",
    "tracks_df = pd.read_csv('data/spotify_daily_charts_tracks.csv')\n",
    "tracks_df.head()"
   ]
  },
  {
   "cell_type": "code",
   "execution_count": null,
   "metadata": {
    "ExecuteTime": {
     "end_time": "2020-09-30T15:39:38.934266Z",
     "start_time": "2020-09-30T15:39:38.559478Z"
    },
    "scrolled": true
   },
   "outputs": [],
   "source": [
    "df = charts_df.merge(tracks_df, on='track_id', how='left')\n",
    "df.head()"
   ]
  },
  {
   "cell_type": "code",
   "execution_count": null,
   "metadata": {
    "ExecuteTime": {
     "end_time": "2020-09-30T16:17:23.826257Z",
     "start_time": "2020-09-30T16:17:23.813267Z"
    }
   },
   "outputs": [],
   "source": [
    "#Always check number of rows when performing merges\n",
    "charts_df.shape, tracks_df.shape, df.shape"
   ]
  },
  {
   "cell_type": "code",
   "execution_count": null,
   "metadata": {
    "ExecuteTime": {
     "end_time": "2020-09-30T15:39:38.982239Z",
     "start_time": "2020-09-30T15:39:38.938263Z"
    }
   },
   "outputs": [],
   "source": [
    "df.columns"
   ]
  },
  {
   "cell_type": "code",
   "execution_count": null,
   "metadata": {
    "ExecuteTime": {
     "end_time": "2020-09-30T15:39:40.013648Z",
     "start_time": "2020-09-30T15:39:39.392001Z"
    }
   },
   "outputs": [],
   "source": [
    "#drop duplicated track_name column\n",
    "df = df.drop(columns='track_name_y')\n",
    "#rename trace_name x\n",
    "df = df.rename(columns={'track_name_x':'track_name'})\n",
    "df.head()"
   ]
  },
  {
   "cell_type": "code",
   "execution_count": null,
   "metadata": {
    "ExecuteTime": {
     "end_time": "2020-09-30T15:39:40.076609Z",
     "start_time": "2020-09-30T15:39:40.016645Z"
    }
   },
   "outputs": [],
   "source": [
    "#check if expected columns are present\n",
    "df.columns"
   ]
  },
  {
   "cell_type": "markdown",
   "metadata": {},
   "source": [
    "## Q&A"
   ]
  },
  {
   "cell_type": "markdown",
   "metadata": {},
   "source": [
    "Q1: What are the top 10 songs in terms of total streams from 2018 to 2020?"
   ]
  },
  {
   "cell_type": "code",
   "execution_count": null,
   "metadata": {
    "ExecuteTime": {
     "end_time": "2020-09-30T15:39:44.836886Z",
     "start_time": "2020-09-30T15:39:43.550624Z"
    }
   },
   "outputs": [],
   "source": [
    "# groupby tracks and sum streams, sort and get first 10 rows \n",
    "df.groupby(['track_id','track_name'])['streams'].sum().sort_values(ascending=False)[:10]"
   ]
  },
  {
   "cell_type": "markdown",
   "metadata": {},
   "source": [
    "Q2: Whats the mean tempo of the top 10 most streamed songs?"
   ]
  },
  {
   "cell_type": "code",
   "execution_count": null,
   "metadata": {
    "ExecuteTime": {
     "end_time": "2020-09-30T15:39:48.172981Z",
     "start_time": "2020-09-30T15:39:47.704246Z"
    }
   },
   "outputs": [],
   "source": [
    "top10songs = df.groupby(['track_id','track_name'])['streams'].sum()\\\n",
    "            .sort_values(ascending=False)[:10]\\\n",
    "            .reset_index()['track_id'].values\n",
    "top10songs"
   ]
  },
  {
   "cell_type": "code",
   "execution_count": null,
   "metadata": {
    "ExecuteTime": {
     "end_time": "2020-09-30T15:39:57.080885Z",
     "start_time": "2020-09-30T15:39:56.350301Z"
    }
   },
   "outputs": [],
   "source": [
    "#isin selects elements in list\n",
    "df[df['track_id'].isin(top10songs)]['tempo'].mean() #in bpm"
   ]
  },
  {
   "cell_type": "markdown",
   "metadata": {},
   "source": [
    "Q2a. Follow-up: How does this compare with the mean tempo of the rest of the songs?"
   ]
  },
  {
   "cell_type": "code",
   "execution_count": null,
   "metadata": {
    "ExecuteTime": {
     "end_time": "2020-09-30T15:56:36.906472Z",
     "start_time": "2020-09-30T15:56:34.750703Z"
    },
    "scrolled": true
   },
   "outputs": [],
   "source": [
    "#use ~ to negate\n",
    "df[~df['track_id'].isin(top10songs)]['tempo'].mean() #in bpm"
   ]
  },
  {
   "cell_type": "markdown",
   "metadata": {},
   "source": [
    "Q3: What are the top 5 “saddest” charting songs for 2020? "
   ]
  },
  {
   "cell_type": "code",
   "execution_count": null,
   "metadata": {
    "ExecuteTime": {
     "end_time": "2020-09-30T16:02:09.079447Z",
     "start_time": "2020-09-30T16:02:08.601719Z"
    }
   },
   "outputs": [],
   "source": [
    "#filter by year, drop duplicates for track, sort valence from least to greatest,get first 5 indices \n",
    "df[df['year']==2020].drop_duplicates(['track_id','track_name']).sort_values('valence')[:5][['track_name','artist']]"
   ]
  },
  {
   "cell_type": "markdown",
   "metadata": {},
   "source": [
    "### Plain tables as output?\n",
    "1. Tables are simple fast answers to simple fast questions\n",
    "2. Tables are very useful for troubleshooting. The numbers often reveal if there was something wrong with the data source/processing\n",
    "3. In most office setups, analtyics output are often offtaked by another team (e.g. market segments group -> finance for sales projections). As it could be readily plugged into their computations, they usually prefer tables instead of deployed products."
   ]
  },
  {
   "cell_type": "code",
   "execution_count": null,
   "metadata": {},
   "outputs": [],
   "source": []
  },
  {
   "cell_type": "code",
   "execution_count": null,
   "metadata": {},
   "outputs": [],
   "source": []
  }
 ],
 "metadata": {
  "kernelspec": {
   "display_name": "Python 3",
   "language": "python",
   "name": "python3"
  },
  "language_info": {
   "codemirror_mode": {
    "name": "ipython",
    "version": 3
   },
   "file_extension": ".py",
   "mimetype": "text/x-python",
   "name": "python",
   "nbconvert_exporter": "python",
   "pygments_lexer": "ipython3",
   "version": "3.8.3"
  }
 },
 "nbformat": 4,
 "nbformat_minor": 4
}
